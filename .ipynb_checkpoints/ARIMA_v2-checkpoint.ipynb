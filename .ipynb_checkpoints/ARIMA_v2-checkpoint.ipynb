{
 "cells": [
  {
   "cell_type": "code",
   "execution_count": 1,
   "metadata": {
    "colab": {
     "base_uri": "https://localhost:8080/"
    },
    "executionInfo": {
     "elapsed": 3555,
     "status": "ok",
     "timestamp": 1628014061362,
     "user": {
      "displayName": "Stelios Argyrou",
      "photoUrl": "https://lh3.googleusercontent.com/a-/AOh14Ggy0Znxg9S2zBfesNyH-Z_hcNqT9q14SjJGYdEgbw=s64",
      "userId": "16746687086442079738"
     },
     "user_tz": -60
    },
    "id": "rgI5xsf7eUVw",
    "outputId": "02c85a94-d198-41ce-c5ee-3f5e200b7771"
   },
   "outputs": [
    {
     "name": "stdout",
     "output_type": "stream",
     "text": [
      "Requirement already satisfied: pmdarima in c:\\users\\styar\\anaconda3\\lib\\site-packages (1.8.2)\n",
      "Requirement already satisfied: numpy~=1.19.0 in c:\\users\\styar\\anaconda3\\lib\\site-packages (from pmdarima) (1.19.5)\n",
      "Requirement already satisfied: scikit-learn>=0.22 in c:\\users\\styar\\anaconda3\\lib\\site-packages (from pmdarima) (0.24.2)\n",
      "Requirement already satisfied: setuptools!=50.0.0,>=38.6.0 in c:\\users\\styar\\anaconda3\\lib\\site-packages (from pmdarima) (52.0.0.post20210125)\n",
      "Requirement already satisfied: pandas>=0.19 in c:\\users\\styar\\anaconda3\\lib\\site-packages (from pmdarima) (1.2.4)\n",
      "Requirement already satisfied: scipy>=1.3.2 in c:\\users\\styar\\anaconda3\\lib\\site-packages (from pmdarima) (1.6.2)\n",
      "Requirement already satisfied: joblib>=0.11 in c:\\users\\styar\\anaconda3\\lib\\site-packages (from pmdarima) (1.0.1)\n",
      "Requirement already satisfied: statsmodels!=0.12.0,>=0.11 in c:\\users\\styar\\anaconda3\\lib\\site-packages (from pmdarima) (0.12.2)\n",
      "Requirement already satisfied: urllib3 in c:\\users\\styar\\anaconda3\\lib\\site-packages (from pmdarima) (1.26.6)\n",
      "Requirement already satisfied: Cython!=0.29.18,>=0.29 in c:\\users\\styar\\anaconda3\\lib\\site-packages (from pmdarima) (0.29.24)\n",
      "Requirement already satisfied: python-dateutil>=2.7.3 in c:\\users\\styar\\anaconda3\\lib\\site-packages (from pandas>=0.19->pmdarima) (2.8.1)\n",
      "Requirement already satisfied: pytz>=2017.3 in c:\\users\\styar\\anaconda3\\lib\\site-packages (from pandas>=0.19->pmdarima) (2021.1)\n",
      "Requirement already satisfied: six>=1.5 in c:\\users\\styar\\anaconda3\\lib\\site-packages (from python-dateutil>=2.7.3->pandas>=0.19->pmdarima) (1.15.0)\n",
      "Requirement already satisfied: threadpoolctl>=2.0.0 in c:\\users\\styar\\anaconda3\\lib\\site-packages (from scikit-learn>=0.22->pmdarima) (2.2.0)\n",
      "Requirement already satisfied: patsy>=0.5 in c:\\users\\styar\\anaconda3\\lib\\site-packages (from statsmodels!=0.12.0,>=0.11->pmdarima) (0.5.1)\n",
      "Note: you may need to restart the kernel to use updated packages.\n"
     ]
    }
   ],
   "source": [
    "pip install pmdarima"
   ]
  },
  {
   "cell_type": "code",
   "execution_count": 2,
   "metadata": {
    "colab": {
     "base_uri": "https://localhost:8080/"
    },
    "executionInfo": {
     "elapsed": 2096,
     "status": "ok",
     "timestamp": 1628014063439,
     "user": {
      "displayName": "Stelios Argyrou",
      "photoUrl": "https://lh3.googleusercontent.com/a-/AOh14Ggy0Znxg9S2zBfesNyH-Z_hcNqT9q14SjJGYdEgbw=s64",
      "userId": "16746687086442079738"
     },
     "user_tz": -60
    },
    "id": "sJUCGgJAeXmn",
    "outputId": "5990f78d-6f45-4df0-9d53-b66c1b290fa7"
   },
   "outputs": [],
   "source": [
    "import pandas as pd\n",
    "import numpy as np\n",
    "\n",
    "#Used for Google Colab\n",
    "# from google.colab import drive\n",
    "# drive.mount('/content/drive', force_remount=True)"
   ]
  },
  {
   "cell_type": "markdown",
   "metadata": {
    "id": "kzMWL_bGvvuY"
   },
   "source": [
    "#Read Data"
   ]
  },
  {
   "cell_type": "code",
   "execution_count": null,
   "metadata": {
    "colab": {
     "base_uri": "https://localhost:8080/"
    },
    "executionInfo": {
     "elapsed": 19043,
     "status": "ok",
     "timestamp": 1628014082478,
     "user": {
      "displayName": "Stelios Argyrou",
      "photoUrl": "https://lh3.googleusercontent.com/a-/AOh14Ggy0Znxg9S2zBfesNyH-Z_hcNqT9q14SjJGYdEgbw=s64",
      "userId": "16746687086442079738"
     },
     "user_tz": -60
    },
    "id": "rKYgCgvcebUM",
    "outputId": "6e7c0300-f407-46a2-962e-9a7ee912ef1b"
   },
   "outputs": [],
   "source": [
    "# Dataset merging and cleaning\n",
    "# data = pd.read_excel('/content/drive/My Drive/MOPAC/Crime/Borough Daily 2018-20.xlsx')\n",
    "# data2021 = pd.read_excel('/content/drive/My Drive/MOPAC/Crime/Borough Daily Data 2021.xlsx')\n",
    "\n",
    "data = pd.read_excel('../Crime/Borough Daily 2018-20.xlsx')\n",
    "data2021 = pd.read_excel('../Crime/Borough Daily Data 2021.xlsx')\n",
    "\n",
    "\n",
    "df = pd.concat([data, data2021])\n",
    "data = df\n",
    "data = data.fillna(data.mean())\n",
    "data = data.rename(columns={'Date - Daily Data': 'date'})\n",
    "# data = data.rename(columns={'Month-Year': 'date'})\n",
    "data = data.groupby(by=\"date\").sum()\n",
    "\n",
    "df = data[\"TNO Offs\"].to_frame()\n",
    "df.size"
   ]
  },
  {
   "cell_type": "markdown",
   "metadata": {
    "id": "kVswd7W7vyi4"
   },
   "source": [
    "#Plot Your Data"
   ]
  },
  {
   "cell_type": "code",
   "execution_count": null,
   "metadata": {
    "colab": {
     "base_uri": "https://localhost:8080/",
     "height": 362
    },
    "executionInfo": {
     "elapsed": 719,
     "status": "ok",
     "timestamp": 1628014083191,
     "user": {
      "displayName": "Stelios Argyrou",
      "photoUrl": "https://lh3.googleusercontent.com/a-/AOh14Ggy0Znxg9S2zBfesNyH-Z_hcNqT9q14SjJGYdEgbw=s64",
      "userId": "16746687086442079738"
     },
     "user_tz": -60
    },
    "id": "KppUuT8-ejqD",
    "outputId": "5d2c357f-42eb-4e2c-d719-e824d1411337"
   },
   "outputs": [],
   "source": [
    "df['TNO Offs'].plot(figsize=(12,5))"
   ]
  },
  {
   "cell_type": "code",
   "execution_count": null,
   "metadata": {
    "colab": {
     "base_uri": "https://localhost:8080/",
     "height": 436
    },
    "executionInfo": {
     "elapsed": 28,
     "status": "ok",
     "timestamp": 1628014083193,
     "user": {
      "displayName": "Stelios Argyrou",
      "photoUrl": "https://lh3.googleusercontent.com/a-/AOh14Ggy0Znxg9S2zBfesNyH-Z_hcNqT9q14SjJGYdEgbw=s64",
      "userId": "16746687086442079738"
     },
     "user_tz": -60
    },
    "id": "Y6sCp1x_QbOP",
    "outputId": "fd1bb280-4639-4c0e-f7d9-6bf6c93fcea5"
   },
   "outputs": [],
   "source": [
    "df"
   ]
  },
  {
   "cell_type": "markdown",
   "metadata": {
    "id": "2YK8qw2Gv1bT"
   },
   "source": [
    "#Check For Stationarity"
   ]
  },
  {
   "cell_type": "code",
   "execution_count": null,
   "metadata": {
    "executionInfo": {
     "elapsed": 26,
     "status": "ok",
     "timestamp": 1628014083194,
     "user": {
      "displayName": "Stelios Argyrou",
      "photoUrl": "https://lh3.googleusercontent.com/a-/AOh14Ggy0Znxg9S2zBfesNyH-Z_hcNqT9q14SjJGYdEgbw=s64",
      "userId": "16746687086442079738"
     },
     "user_tz": -60
    },
    "id": "8TqnvNbBexKT"
   },
   "outputs": [],
   "source": [
    "from statsmodels.tsa.stattools import adfuller\n",
    "\n",
    "def adf_test(dataset):\n",
    "  dftest = adfuller(dataset, autolag = 'AIC')\n",
    "  print(\"1. ADF : \",dftest[0])\n",
    "  print(\"2. P-Value : \", dftest[1])\n",
    "  print(\"3. Num Of Lags : \", dftest[2])\n",
    "  print(\"4. Num Of Observations Used For ADF Regression and Critical Values Calculation :\", dftest[3])\n",
    "  print(\"5. Critical Values :\")\n",
    "  for key, val in dftest[4].items():\n",
    "      print(\"\\t\",key, \": \", val)\n",
    "  \n",
    "  if dftest[0] < dftest[4][\"5%\"]:\n",
    "      print (\"Reject Ho - Time Series is Stationary\")\n",
    "  else:\n",
    "      print (\"Failed to Reject Ho - Time Series is Non-Stationary\")"
   ]
  },
  {
   "cell_type": "code",
   "execution_count": null,
   "metadata": {
    "colab": {
     "base_uri": "https://localhost:8080/"
    },
    "executionInfo": {
     "elapsed": 29,
     "status": "ok",
     "timestamp": 1628014083198,
     "user": {
      "displayName": "Stelios Argyrou",
      "photoUrl": "https://lh3.googleusercontent.com/a-/AOh14Ggy0Znxg9S2zBfesNyH-Z_hcNqT9q14SjJGYdEgbw=s64",
      "userId": "16746687086442079738"
     },
     "user_tz": -60
    },
    "id": "muTlXcZYe3Jk",
    "outputId": "921ba65a-41a8-4f28-d282-dc8e3b01c1ac"
   },
   "outputs": [],
   "source": [
    "adf_test(df['TNO Offs'])"
   ]
  },
  {
   "cell_type": "markdown",
   "metadata": {
    "id": "XE7o8ZDEv6TV"
   },
   "source": [
    "#Figure Out Order for ARIMA Model"
   ]
  },
  {
   "cell_type": "code",
   "execution_count": null,
   "metadata": {
    "executionInfo": {
     "elapsed": 26,
     "status": "ok",
     "timestamp": 1628014083199,
     "user": {
      "displayName": "Stelios Argyrou",
      "photoUrl": "https://lh3.googleusercontent.com/a-/AOh14Ggy0Znxg9S2zBfesNyH-Z_hcNqT9q14SjJGYdEgbw=s64",
      "userId": "16746687086442079738"
     },
     "user_tz": -60
    },
    "id": "0Y1yq4A5e6j8"
   },
   "outputs": [],
   "source": [
    "from pmdarima import auto_arima\n",
    "# Ignore harmless warnings\n",
    "import warnings\n",
    "warnings.filterwarnings(\"ignore\")"
   ]
  },
  {
   "cell_type": "code",
   "execution_count": null,
   "metadata": {
    "colab": {
     "base_uri": "https://localhost:8080/",
     "height": 405
    },
    "executionInfo": {
     "elapsed": 29798,
     "status": "ok",
     "timestamp": 1628014112972,
     "user": {
      "displayName": "Stelios Argyrou",
      "photoUrl": "https://lh3.googleusercontent.com/a-/AOh14Ggy0Znxg9S2zBfesNyH-Z_hcNqT9q14SjJGYdEgbw=s64",
      "userId": "16746687086442079738"
     },
     "user_tz": -60
    },
    "id": "6ikhqu-mfHCA",
    "outputId": "cb732f00-6e25-4fdb-ee34-29afdb343523"
   },
   "outputs": [],
   "source": [
    "stepwise_fit = auto_arima(df['TNO Offs'], \n",
    "                          suppress_warnings=True)           \n",
    "\n",
    "stepwise_fit.summary()"
   ]
  },
  {
   "cell_type": "code",
   "execution_count": null,
   "metadata": {
    "executionInfo": {
     "elapsed": 12,
     "status": "ok",
     "timestamp": 1628014112973,
     "user": {
      "displayName": "Stelios Argyrou",
      "photoUrl": "https://lh3.googleusercontent.com/a-/AOh14Ggy0Znxg9S2zBfesNyH-Z_hcNqT9q14SjJGYdEgbw=s64",
      "userId": "16746687086442079738"
     },
     "user_tz": -60
    },
    "id": "i2OiS6-gfKHs"
   },
   "outputs": [],
   "source": [
    "from statsmodels.tsa.arima_model import ARIMA"
   ]
  },
  {
   "cell_type": "markdown",
   "metadata": {
    "id": "y-JQDC6yv9_y"
   },
   "source": [
    "#Split Data into Training and Testing"
   ]
  },
  {
   "cell_type": "code",
   "execution_count": null,
   "metadata": {
    "colab": {
     "base_uri": "https://localhost:8080/"
    },
    "executionInfo": {
     "elapsed": 12,
     "status": "ok",
     "timestamp": 1628014112974,
     "user": {
      "displayName": "Stelios Argyrou",
      "photoUrl": "https://lh3.googleusercontent.com/a-/AOh14Ggy0Znxg9S2zBfesNyH-Z_hcNqT9q14SjJGYdEgbw=s64",
      "userId": "16746687086442079738"
     },
     "user_tz": -60
    },
    "id": "h-SgGft2fYMF",
    "outputId": "dc4fd86a-bce1-4008-eb52-2633a5fe671a"
   },
   "outputs": [],
   "source": [
    "print(df.shape)\n",
    "train=df.iloc[:-200]\n",
    "test=df.iloc[-200:]\n",
    "print(train.shape,test.shape)\n",
    "print(test.iloc[0],test.iloc[-1])"
   ]
  },
  {
   "cell_type": "markdown",
   "metadata": {
    "id": "emUTK7M6wCmx"
   },
   "source": [
    "## Train the Model"
   ]
  },
  {
   "cell_type": "code",
   "execution_count": null,
   "metadata": {
    "colab": {
     "base_uri": "https://localhost:8080/",
     "height": 423
    },
    "executionInfo": {
     "elapsed": 2088,
     "status": "ok",
     "timestamp": 1628014115055,
     "user": {
      "displayName": "Stelios Argyrou",
      "photoUrl": "https://lh3.googleusercontent.com/a-/AOh14Ggy0Znxg9S2zBfesNyH-Z_hcNqT9q14SjJGYdEgbw=s64",
      "userId": "16746687086442079738"
     },
     "user_tz": -60
    },
    "id": "LKr5XHt0fbWT",
    "outputId": "14d2abe7-2cd5-4d80-9ac4-1697415c5bb9"
   },
   "outputs": [],
   "source": [
    "from statsmodels.tsa.arima_model import ARIMA\n",
    "from statsmodels.tsa.statespace.sarimax import SARIMAX\n",
    "model=SARIMAX(train['TNO Offs'],trend='c',order=(2,1,2))\n",
    "model=model.fit()\n",
    "model.summary()"
   ]
  },
  {
   "cell_type": "markdown",
   "metadata": {
    "id": "QnJXQ4iBwFec"
   },
   "source": [
    "#Make Predictions on Test Set"
   ]
  },
  {
   "cell_type": "code",
   "execution_count": null,
   "metadata": {
    "colab": {
     "base_uri": "https://localhost:8080/",
     "height": 0
    },
    "executionInfo": {
     "elapsed": 523,
     "status": "ok",
     "timestamp": 1628014115565,
     "user": {
      "displayName": "Stelios Argyrou",
      "photoUrl": "https://lh3.googleusercontent.com/a-/AOh14Ggy0Znxg9S2zBfesNyH-Z_hcNqT9q14SjJGYdEgbw=s64",
      "userId": "16746687086442079738"
     },
     "user_tz": -60
    },
    "id": "2ZtJTygKfg5i",
    "outputId": "7d77854a-43c7-4e6d-e65e-50a777f7e525"
   },
   "outputs": [],
   "source": [
    "import matplotlib.pyplot as plt\n",
    "start=len(train)\n",
    "end=len(train)+len(test)-1\n",
    "print(test)\n",
    "#if the predicted values dont have date values as index, you will have to uncomment the following two commented lines to plot a graph\n",
    "index_future_dates=pd.date_range(start='2020-12-13',end='2021-06-30')\n",
    "pred=model.predict(start=start,end=end,typ='levels').rename('ARIMA predictions')\n",
    "pred.index=index_future_dates\n",
    "pred.plot(legend=True)\n",
    "test['TNO Offs'].plot(legend=True)"
   ]
  },
  {
   "cell_type": "code",
   "execution_count": null,
   "metadata": {
    "colab": {
     "base_uri": "https://localhost:8080/",
     "height": 0
    },
    "executionInfo": {
     "elapsed": 511,
     "status": "ok",
     "timestamp": 1628014116059,
     "user": {
      "displayName": "Stelios Argyrou",
      "photoUrl": "https://lh3.googleusercontent.com/a-/AOh14Ggy0Znxg9S2zBfesNyH-Z_hcNqT9q14SjJGYdEgbw=s64",
      "userId": "16746687086442079738"
     },
     "user_tz": -60
    },
    "id": "grTT31Tdfqfb",
    "outputId": "1bd3b153-6264-4884-b2c8-f6a73b73b487"
   },
   "outputs": [],
   "source": [
    "pred.plot(legend='ARIMA Predictions')\n",
    "test['TNO Offs'].plot(legend=True)"
   ]
  },
  {
   "cell_type": "code",
   "execution_count": null,
   "metadata": {
    "colab": {
     "base_uri": "https://localhost:8080/"
    },
    "executionInfo": {
     "elapsed": 34,
     "status": "ok",
     "timestamp": 1628014116061,
     "user": {
      "displayName": "Stelios Argyrou",
      "photoUrl": "https://lh3.googleusercontent.com/a-/AOh14Ggy0Znxg9S2zBfesNyH-Z_hcNqT9q14SjJGYdEgbw=s64",
      "userId": "16746687086442079738"
     },
     "user_tz": -60
    },
    "id": "3R2eTZHDfz5H",
    "outputId": "cfd390cf-6412-4eb3-cfbe-0dd7108393ed"
   },
   "outputs": [],
   "source": [
    "test['TNO Offs'].mean()"
   ]
  },
  {
   "cell_type": "code",
   "execution_count": null,
   "metadata": {
    "colab": {
     "base_uri": "https://localhost:8080/"
    },
    "executionInfo": {
     "elapsed": 16,
     "status": "ok",
     "timestamp": 1628014116062,
     "user": {
      "displayName": "Stelios Argyrou",
      "photoUrl": "https://lh3.googleusercontent.com/a-/AOh14Ggy0Znxg9S2zBfesNyH-Z_hcNqT9q14SjJGYdEgbw=s64",
      "userId": "16746687086442079738"
     },
     "user_tz": -60
    },
    "id": "zQ7SB2lQux5x",
    "outputId": "a9e094da-c134-42c6-e837-83ef5a520df9"
   },
   "outputs": [],
   "source": [
    "from sklearn.metrics import mean_squared_error, r2_score\n",
    "from math import sqrt\n",
    "rmse=sqrt(mean_squared_error(pred,test['TNO Offs']))\n",
    "print(rmse)\n",
    "print(r2_score(test[\"TNO Offs\"], pred))\n"
   ]
  },
  {
   "cell_type": "code",
   "execution_count": null,
   "metadata": {
    "colab": {
     "base_uri": "https://localhost:8080/",
     "height": 227
    },
    "executionInfo": {
     "elapsed": 1863,
     "status": "ok",
     "timestamp": 1628014117912,
     "user": {
      "displayName": "Stelios Argyrou",
      "photoUrl": "https://lh3.googleusercontent.com/a-/AOh14Ggy0Znxg9S2zBfesNyH-Z_hcNqT9q14SjJGYdEgbw=s64",
      "userId": "16746687086442079738"
     },
     "user_tz": -60
    },
    "id": "DgJUq_lGvV10",
    "outputId": "d5338947-c2ed-4ecf-ec09-9e00643555e9"
   },
   "outputs": [],
   "source": [
    "model2=SARIMAX(df['TNO Offs'],trend='c',order=(2,1,2))\n",
    "model2=model2.fit()\n",
    "df.tail()"
   ]
  },
  {
   "cell_type": "code",
   "execution_count": null,
   "metadata": {
    "colab": {
     "base_uri": "https://localhost:8080/"
    },
    "executionInfo": {
     "elapsed": 14,
     "status": "ok",
     "timestamp": 1628014117913,
     "user": {
      "displayName": "Stelios Argyrou",
      "photoUrl": "https://lh3.googleusercontent.com/a-/AOh14Ggy0Znxg9S2zBfesNyH-Z_hcNqT9q14SjJGYdEgbw=s64",
      "userId": "16746687086442079738"
     },
     "user_tz": -60
    },
    "id": "kH9zamkgVuLM",
    "outputId": "1963b08b-d230-45b6-f709-d6fc1fb0c754"
   },
   "outputs": [],
   "source": [
    "from sklearn.metrics import mean_squared_error, r2_score\n",
    "from math import sqrt\n",
    "rmse=sqrt(mean_squared_error(pred,test['TNO Offs']))\n",
    "print(rmse)\n",
    "print(r2_score(test[\"TNO Offs\"], pred))"
   ]
  },
  {
   "cell_type": "markdown",
   "metadata": {
    "id": "hQ4chXSmvSZw"
   },
   "source": [
    "#For Future Dates"
   ]
  },
  {
   "cell_type": "code",
   "execution_count": null,
   "metadata": {
    "colab": {
     "base_uri": "https://localhost:8080/"
    },
    "executionInfo": {
     "elapsed": 12,
     "status": "ok",
     "timestamp": 1628014117914,
     "user": {
      "displayName": "Stelios Argyrou",
      "photoUrl": "https://lh3.googleusercontent.com/a-/AOh14Ggy0Znxg9S2zBfesNyH-Z_hcNqT9q14SjJGYdEgbw=s64",
      "userId": "16746687086442079738"
     },
     "user_tz": -60
    },
    "id": "ZsjzMPfKqVag",
    "outputId": "8d612cf7-8857-4d7f-8821-16947ca95849"
   },
   "outputs": [],
   "source": [
    "index_future_dates=pd.date_range(start='2021-07-01',end='2021-07-31')\n",
    "#print(index_future_dates)\n",
    "pred=model2.predict(start=len(df),end=len(df)+30,typ='levels').rename('ARIMA Predictions')\n",
    "# print(comp_pred)\n",
    "pred.index=index_future_dates\n",
    "print(pred)"
   ]
  },
  {
   "cell_type": "code",
   "execution_count": null,
   "metadata": {
    "colab": {
     "base_uri": "https://localhost:8080/",
     "height": 0
    },
    "executionInfo": {
     "elapsed": 598,
     "status": "ok",
     "timestamp": 1628014118503,
     "user": {
      "displayName": "Stelios Argyrou",
      "photoUrl": "https://lh3.googleusercontent.com/a-/AOh14Ggy0Znxg9S2zBfesNyH-Z_hcNqT9q14SjJGYdEgbw=s64",
      "userId": "16746687086442079738"
     },
     "user_tz": -60
    },
    "id": "hPgempSauwqo",
    "outputId": "efb5c92f-07ab-4c29-9ee2-45cda54c5f43"
   },
   "outputs": [],
   "source": [
    "pred.plot(figsize=(12,5),legend=True)"
   ]
  },
  {
   "cell_type": "code",
   "execution_count": null,
   "metadata": {
    "colab": {
     "base_uri": "https://localhost:8080/",
     "height": 0
    },
    "executionInfo": {
     "elapsed": 505,
     "status": "ok",
     "timestamp": 1628014118999,
     "user": {
      "displayName": "Stelios Argyrou",
      "photoUrl": "https://lh3.googleusercontent.com/a-/AOh14Ggy0Znxg9S2zBfesNyH-Z_hcNqT9q14SjJGYdEgbw=s64",
      "userId": "16746687086442079738"
     },
     "user_tz": -60
    },
    "id": "U2DkM4GbiOVx",
    "outputId": "ebeeecc0-cac2-4764-8b7c-bd094b7ea497"
   },
   "outputs": [],
   "source": [
    "pred.plot(figsize=(12,5),legend=True)\n",
    "test['TNO Offs'].plot(legend=True)"
   ]
  },
  {
   "cell_type": "code",
   "execution_count": null,
   "metadata": {},
   "outputs": [],
   "source": []
  }
 ],
 "metadata": {
  "colab": {
   "collapsed_sections": [],
   "name": "ARIMA.ipynb",
   "provenance": [
    {
     "file_id": "https://github.com/nachi-hebbar/ARIMA-Temperature_Forecasting/blob/master/Temperature_Forecast_ARIMA.ipynb",
     "timestamp": 1627814858665
    }
   ]
  },
  "kernelspec": {
   "display_name": "Python 3",
   "language": "python",
   "name": "python3"
  },
  "language_info": {
   "codemirror_mode": {
    "name": "ipython",
    "version": 3
   },
   "file_extension": ".py",
   "mimetype": "text/x-python",
   "name": "python",
   "nbconvert_exporter": "python",
   "pygments_lexer": "ipython3",
   "version": "3.8.8"
  }
 },
 "nbformat": 4,
 "nbformat_minor": 1
}
