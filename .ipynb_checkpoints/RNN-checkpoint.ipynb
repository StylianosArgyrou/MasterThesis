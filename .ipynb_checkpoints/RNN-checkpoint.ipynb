{
 "cells": [
  {
   "cell_type": "code",
   "execution_count": 69,
   "metadata": {
    "colab": {
     "base_uri": "https://localhost:8080/"
    },
    "executionInfo": {
     "elapsed": 1334,
     "status": "ok",
     "timestamp": 1628018815286,
     "user": {
      "displayName": "Stelios Argyrou",
      "photoUrl": "https://lh3.googleusercontent.com/a-/AOh14Ggy0Znxg9S2zBfesNyH-Z_hcNqT9q14SjJGYdEgbw=s64",
      "userId": "16746687086442079738"
     },
     "user_tz": -60
    },
    "id": "nRSlxT4q5EHJ",
    "outputId": "6d24aa07-a53f-45e1-9cf2-046da13a2642"
   },
   "outputs": [],
   "source": [
    "#This code contains pieces from https://github.com/nachi-hebbar/Time-Series-Forecasting-LSTM\n",
    "\n",
    "import pandas as pd\n",
    "import numpy as np\n",
    "import matplotlib.pyplot as plt\n",
    "\n",
    "#Used in Google Colab\n",
    "# from google.colab import drive\n",
    "# drive.mount('/content/drive', force_remount=True)"
   ]
  },
  {
   "cell_type": "code",
   "execution_count": 70,
   "metadata": {
    "colab": {
     "base_uri": "https://localhost:8080/"
    },
    "executionInfo": {
     "elapsed": 17743,
     "status": "ok",
     "timestamp": 1628018833026,
     "user": {
      "displayName": "Stelios Argyrou",
      "photoUrl": "https://lh3.googleusercontent.com/a-/AOh14Ggy0Znxg9S2zBfesNyH-Z_hcNqT9q14SjJGYdEgbw=s64",
      "userId": "16746687086442079738"
     },
     "user_tz": -60
    },
    "id": "2fRF6mEW5QbK",
    "outputId": "2cac4f45-661f-4d0f-fa08-c37bb7af8597"
   },
   "outputs": [
    {
     "name": "stderr",
     "output_type": "stream",
     "text": [
      "<ipython-input-70-2c2e86792d55>:10: FutureWarning: DataFrame.mean and DataFrame.median with numeric_only=None will include datetime64 and datetime64tz columns in a future version.\n",
      "  data = data.fillna(data.mean())\n"
     ]
    }
   ],
   "source": [
    "# Dataset merging and cleaning\n",
    "# data = pd.read_excel('/content/drive/My Drive/MOPAC/Crime/Borough Daily 2018-20.xlsx')\n",
    "# data2021 = pd.read_excel('/content/drive/My Drive/MOPAC/Crime/Borough Daily Data 2021.xlsx')\n",
    "\n",
    "data = pd.read_excel('../Crime/Borough Daily 2018-20.xlsx')\n",
    "data2021 = pd.read_excel('../Crime/Borough Daily Data 2021.xlsx')\n",
    "\n",
    "df = pd.concat([data, data2021])\n",
    "data = df\n",
    "data = data.fillna(data.mean())\n",
    "data = data.rename(columns={'Date - Daily Data': 'date'})\n",
    "# data = data.rename(columns={'Month-Year': 'date'})\n",
    "data = data.groupby(by=\"date\").sum()\n",
    "\n",
    "df = data[\"TNO Offs\"].to_frame()"
   ]
  },
  {
   "cell_type": "code",
   "execution_count": 71,
   "metadata": {
    "colab": {
     "base_uri": "https://localhost:8080/",
     "height": 436
    },
    "executionInfo": {
     "elapsed": 71,
     "status": "ok",
     "timestamp": 1628018833027,
     "user": {
      "displayName": "Stelios Argyrou",
      "photoUrl": "https://lh3.googleusercontent.com/a-/AOh14Ggy0Znxg9S2zBfesNyH-Z_hcNqT9q14SjJGYdEgbw=s64",
      "userId": "16746687086442079738"
     },
     "user_tz": -60
    },
    "id": "agtLk7dO5SsM",
    "outputId": "8b4f467e-d83d-4f02-ab1d-7e9cc0d48b05"
   },
   "outputs": [
    {
     "data": {
      "text/html": [
       "<div>\n",
       "<style scoped>\n",
       "    .dataframe tbody tr th:only-of-type {\n",
       "        vertical-align: middle;\n",
       "    }\n",
       "\n",
       "    .dataframe tbody tr th {\n",
       "        vertical-align: top;\n",
       "    }\n",
       "\n",
       "    .dataframe thead th {\n",
       "        text-align: right;\n",
       "    }\n",
       "</style>\n",
       "<table border=\"1\" class=\"dataframe\">\n",
       "  <thead>\n",
       "    <tr style=\"text-align: right;\">\n",
       "      <th></th>\n",
       "      <th>TNO Offs</th>\n",
       "    </tr>\n",
       "    <tr>\n",
       "      <th>date</th>\n",
       "      <th></th>\n",
       "    </tr>\n",
       "  </thead>\n",
       "  <tbody>\n",
       "    <tr>\n",
       "      <th>2018-01-01</th>\n",
       "      <td>2098.0</td>\n",
       "    </tr>\n",
       "    <tr>\n",
       "      <th>2018-01-02</th>\n",
       "      <td>1973.0</td>\n",
       "    </tr>\n",
       "    <tr>\n",
       "      <th>2018-01-03</th>\n",
       "      <td>2353.0</td>\n",
       "    </tr>\n",
       "    <tr>\n",
       "      <th>2018-01-04</th>\n",
       "      <td>2234.0</td>\n",
       "    </tr>\n",
       "    <tr>\n",
       "      <th>2018-01-05</th>\n",
       "      <td>2224.0</td>\n",
       "    </tr>\n",
       "    <tr>\n",
       "      <th>...</th>\n",
       "      <td>...</td>\n",
       "    </tr>\n",
       "    <tr>\n",
       "      <th>2021-06-26</th>\n",
       "      <td>2218.0</td>\n",
       "    </tr>\n",
       "    <tr>\n",
       "      <th>2021-06-27</th>\n",
       "      <td>2039.0</td>\n",
       "    </tr>\n",
       "    <tr>\n",
       "      <th>2021-06-28</th>\n",
       "      <td>2346.0</td>\n",
       "    </tr>\n",
       "    <tr>\n",
       "      <th>2021-06-29</th>\n",
       "      <td>2388.0</td>\n",
       "    </tr>\n",
       "    <tr>\n",
       "      <th>2021-06-30</th>\n",
       "      <td>2387.0</td>\n",
       "    </tr>\n",
       "  </tbody>\n",
       "</table>\n",
       "<p>1277 rows × 1 columns</p>\n",
       "</div>"
      ],
      "text/plain": [
       "            TNO Offs\n",
       "date                \n",
       "2018-01-01    2098.0\n",
       "2018-01-02    1973.0\n",
       "2018-01-03    2353.0\n",
       "2018-01-04    2234.0\n",
       "2018-01-05    2224.0\n",
       "...              ...\n",
       "2021-06-26    2218.0\n",
       "2021-06-27    2039.0\n",
       "2021-06-28    2346.0\n",
       "2021-06-29    2388.0\n",
       "2021-06-30    2387.0\n",
       "\n",
       "[1277 rows x 1 columns]"
      ]
     },
     "execution_count": 71,
     "metadata": {},
     "output_type": "execute_result"
    }
   ],
   "source": [
    "df"
   ]
  },
  {
   "cell_type": "code",
   "execution_count": 72,
   "metadata": {
    "colab": {
     "base_uri": "https://localhost:8080/",
     "height": 417
    },
    "executionInfo": {
     "elapsed": 593,
     "status": "ok",
     "timestamp": 1628018833561,
     "user": {
      "displayName": "Stelios Argyrou",
      "photoUrl": "https://lh3.googleusercontent.com/a-/AOh14Ggy0Znxg9S2zBfesNyH-Z_hcNqT9q14SjJGYdEgbw=s64",
      "userId": "16746687086442079738"
     },
     "user_tz": -60
    },
    "id": "b1h7L_TG5tJK",
    "outputId": "da32db73-130e-4cbf-e0dd-56c8ae194ebf"
   },
   "outputs": [
    {
     "data": {
      "text/plain": [
       "<AxesSubplot:xlabel='date'>"
      ]
     },
     "execution_count": 72,
     "metadata": {},
     "output_type": "execute_result"
    },
    {
     "data": {
      "image/png": "[encoded data removed]",
      "text/plain": [
       "<Figure size 864x432 with 1 Axes>"
      ]
     },
     "metadata": {
      "needs_background": "light"
     },
     "output_type": "display_data"
    }
   ],
   "source": [
    "df.plot(figsize=(12,6))"
   ]
  },
  {
   "cell_type": "code",
   "execution_count": 73,
   "metadata": {
    "executionInfo": {
     "elapsed": 8,
     "status": "ok",
     "timestamp": 1628018833563,
     "user": {
      "displayName": "Stelios Argyrou",
      "photoUrl": "https://lh3.googleusercontent.com/a-/AOh14Ggy0Znxg9S2zBfesNyH-Z_hcNqT9q14SjJGYdEgbw=s64",
      "userId": "16746687086442079738"
     },
     "user_tz": -60
    },
    "id": "jcew1g4f6L_X"
   },
   "outputs": [],
   "source": [
    "from statsmodels.tsa.seasonal import seasonal_decompose"
   ]
  },
  {
   "cell_type": "code",
   "execution_count": 74,
   "metadata": {
    "colab": {
     "base_uri": "https://localhost:8080/",
     "height": 297
    },
    "executionInfo": {
     "elapsed": 1656,
     "status": "ok",
     "timestamp": 1628018835212,
     "user": {
      "displayName": "Stelios Argyrou",
      "photoUrl": "https://lh3.googleusercontent.com/a-/AOh14Ggy0Znxg9S2zBfesNyH-Z_hcNqT9q14SjJGYdEgbw=s64",
      "userId": "16746687086442079738"
     },
     "user_tz": -60
    },
    "id": "zfTZaeEH6Wpn",
    "outputId": "b8dccfe5-730c-4374-f78c-8e0cdd570bcf"
   },
   "outputs": [
    {
     "data": {
      "image/png": "[encoded data removed]",
      "text/plain": [
       "<Figure size 432x288 with 4 Axes>"
      ]
     },
     "metadata": {
      "needs_background": "light"
     },
     "output_type": "display_data"
    }
   ],
   "source": [
    "results = seasonal_decompose(df['TNO Offs'])\n",
    "results.plot();"
   ]
  },
  {
   "cell_type": "code",
   "execution_count": 75,
   "metadata": {
    "colab": {
     "base_uri": "https://localhost:8080/"
    },
    "executionInfo": {
     "elapsed": 33,
     "status": "ok",
     "timestamp": 1628018835213,
     "user": {
      "displayName": "Stelios Argyrou",
      "photoUrl": "https://lh3.googleusercontent.com/a-/AOh14Ggy0Znxg9S2zBfesNyH-Z_hcNqT9q14SjJGYdEgbw=s64",
      "userId": "16746687086442079738"
     },
     "user_tz": -60
    },
    "id": "IzkqCHh_6lfn",
    "outputId": "e15bc097-2529-4e09-c375-1f751b67174a"
   },
   "outputs": [
    {
     "data": {
      "text/plain": [
       "1277"
      ]
     },
     "execution_count": 75,
     "metadata": {},
     "output_type": "execute_result"
    }
   ],
   "source": [
    "len(df)"
   ]
  },
  {
   "cell_type": "code",
   "execution_count": 76,
   "metadata": {
    "executionInfo": {
     "elapsed": 28,
     "status": "ok",
     "timestamp": 1628018835216,
     "user": {
      "displayName": "Stelios Argyrou",
      "photoUrl": "https://lh3.googleusercontent.com/a-/AOh14Ggy0Znxg9S2zBfesNyH-Z_hcNqT9q14SjJGYdEgbw=s64",
      "userId": "16746687086442079738"
     },
     "user_tz": -60
    },
    "id": "1NoWcZEK6rPb"
   },
   "outputs": [],
   "source": [
    "size = int(len(df)*0.8)\n",
    "train = df.iloc[:size]\n",
    "test = df.iloc[size:]"
   ]
  },
  {
   "cell_type": "code",
   "execution_count": 77,
   "metadata": {
    "executionInfo": {
     "elapsed": 27,
     "status": "ok",
     "timestamp": 1628018835217,
     "user": {
      "displayName": "Stelios Argyrou",
      "photoUrl": "https://lh3.googleusercontent.com/a-/AOh14Ggy0Znxg9S2zBfesNyH-Z_hcNqT9q14SjJGYdEgbw=s64",
      "userId": "16746687086442079738"
     },
     "user_tz": -60
    },
    "id": "dtAgIrE66u6x"
   },
   "outputs": [],
   "source": [
    "from sklearn.preprocessing import MinMaxScaler\n",
    "scaler = MinMaxScaler()"
   ]
  },
  {
   "cell_type": "code",
   "execution_count": 78,
   "metadata": {
    "colab": {
     "base_uri": "https://localhost:8080/"
    },
    "executionInfo": {
     "elapsed": 26,
     "status": "ok",
     "timestamp": 1628018835217,
     "user": {
      "displayName": "Stelios Argyrou",
      "photoUrl": "https://lh3.googleusercontent.com/a-/AOh14Ggy0Znxg9S2zBfesNyH-Z_hcNqT9q14SjJGYdEgbw=s64",
      "userId": "16746687086442079738"
     },
     "user_tz": -60
    },
    "id": "UDQODrt4D5NK",
    "outputId": "99c99e38-0d58-4cdf-8f90-67553e1e4f77"
   },
   "outputs": [
    {
     "data": {
      "text/plain": [
       "(            TNO Offs\n",
       " date                \n",
       " 2018-01-01    2098.0\n",
       " 2018-01-02    1973.0\n",
       " 2018-01-03    2353.0\n",
       " 2018-01-04    2234.0\n",
       " 2018-01-05    2224.0,\n",
       "             TNO Offs\n",
       " date                \n",
       " 2021-06-26    2218.0\n",
       " 2021-06-27    2039.0\n",
       " 2021-06-28    2346.0\n",
       " 2021-06-29    2388.0\n",
       " 2021-06-30    2387.0)"
      ]
     },
     "execution_count": 78,
     "metadata": {},
     "output_type": "execute_result"
    }
   ],
   "source": [
    "df.head(),df.tail()"
   ]
  },
  {
   "cell_type": "code",
   "execution_count": 79,
   "metadata": {
    "executionInfo": {
     "elapsed": 312,
     "status": "ok",
     "timestamp": 1628018835510,
     "user": {
      "displayName": "Stelios Argyrou",
      "photoUrl": "https://lh3.googleusercontent.com/a-/AOh14Ggy0Znxg9S2zBfesNyH-Z_hcNqT9q14SjJGYdEgbw=s64",
      "userId": "16746687086442079738"
     },
     "user_tz": -60
    },
    "id": "ijgmVYgC6zBz"
   },
   "outputs": [],
   "source": [
    "scaler.fit(train)\n",
    "scaled_train = scaler.transform(train)\n",
    "scaled_test = scaler.transform(test)"
   ]
  },
  {
   "cell_type": "code",
   "execution_count": 80,
   "metadata": {
    "colab": {
     "base_uri": "https://localhost:8080/"
    },
    "executionInfo": {
     "elapsed": 20,
     "status": "ok",
     "timestamp": 1628018835510,
     "user": {
      "displayName": "Stelios Argyrou",
      "photoUrl": "https://lh3.googleusercontent.com/a-/AOh14Ggy0Znxg9S2zBfesNyH-Z_hcNqT9q14SjJGYdEgbw=s64",
      "userId": "16746687086442079738"
     },
     "user_tz": -60
    },
    "id": "BrdKbJ3g6-Et",
    "outputId": "68bb345e-9a5e-4f8f-a562-d1e7aeda821e"
   },
   "outputs": [
    {
     "data": {
      "text/plain": [
       "array([[0.62430056],\n",
       "       [0.57434053],\n",
       "       [0.72621902],\n",
       "       [0.67865707],\n",
       "       [0.67466027],\n",
       "       [0.67705835],\n",
       "       [0.58952838],\n",
       "       [0.63349321],\n",
       "       [0.72422062],\n",
       "       [0.63189448]])"
      ]
     },
     "execution_count": 80,
     "metadata": {},
     "output_type": "execute_result"
    }
   ],
   "source": [
    "scaled_train[:10]"
   ]
  },
  {
   "cell_type": "code",
   "execution_count": 81,
   "metadata": {
    "executionInfo": {
     "elapsed": 20,
     "status": "ok",
     "timestamp": 1628018835511,
     "user": {
      "displayName": "Stelios Argyrou",
      "photoUrl": "https://lh3.googleusercontent.com/a-/AOh14Ggy0Znxg9S2zBfesNyH-Z_hcNqT9q14SjJGYdEgbw=s64",
      "userId": "16746687086442079738"
     },
     "user_tz": -60
    },
    "id": "0xryZ7rR62y5"
   },
   "outputs": [],
   "source": [
    "from keras.preprocessing.sequence import TimeseriesGenerator"
   ]
  },
  {
   "cell_type": "code",
   "execution_count": 82,
   "metadata": {
    "executionInfo": {
     "elapsed": 20,
     "status": "ok",
     "timestamp": 1628018835511,
     "user": {
      "displayName": "Stelios Argyrou",
      "photoUrl": "https://lh3.googleusercontent.com/a-/AOh14Ggy0Znxg9S2zBfesNyH-Z_hcNqT9q14SjJGYdEgbw=s64",
      "userId": "16746687086442079738"
     },
     "user_tz": -60
    },
    "id": "CqyTKCVt69Z9"
   },
   "outputs": [],
   "source": [
    "# define generator\n",
    "n_input = 3\n",
    "n_features = 1\n",
    "generator = TimeseriesGenerator(scaled_train, scaled_train, length=n_input, batch_size=1)"
   ]
  },
  {
   "cell_type": "code",
   "execution_count": 83,
   "metadata": {
    "colab": {
     "base_uri": "https://localhost:8080/"
    },
    "executionInfo": {
     "elapsed": 21,
     "status": "ok",
     "timestamp": 1628018835513,
     "user": {
      "displayName": "Stelios Argyrou",
      "photoUrl": "https://lh3.googleusercontent.com/a-/AOh14Ggy0Znxg9S2zBfesNyH-Z_hcNqT9q14SjJGYdEgbw=s64",
      "userId": "16746687086442079738"
     },
     "user_tz": -60
    },
    "id": "ip6y5Ene7OM7",
    "outputId": "a19f4423-5880-4fe7-bd8d-b98dbd079134"
   },
   "outputs": [
    {
     "name": "stdout",
     "output_type": "stream",
     "text": [
      "Given the Array: \n",
      "[0.62430056 0.57434053 0.72621902]\n",
      "Predict this y: \n",
      " [[0.67865707]]\n"
     ]
    }
   ],
   "source": [
    "X,y = generator[0]\n",
    "print(f'Given the Array: \\n{X.flatten()}')\n",
    "print(f'Predict this y: \\n {y}')"
   ]
  },
  {
   "cell_type": "code",
   "execution_count": 84,
   "metadata": {
    "colab": {
     "base_uri": "https://localhost:8080/"
    },
    "executionInfo": {
     "elapsed": 19,
     "status": "ok",
     "timestamp": 1628018835514,
     "user": {
      "displayName": "Stelios Argyrou",
      "photoUrl": "https://lh3.googleusercontent.com/a-/AOh14Ggy0Znxg9S2zBfesNyH-Z_hcNqT9q14SjJGYdEgbw=s64",
      "userId": "16746687086442079738"
     },
     "user_tz": -60
    },
    "id": "bQyGmvsi8HyR",
    "outputId": "74d35e06-8486-4a3c-daf5-f150afbf1122"
   },
   "outputs": [
    {
     "data": {
      "text/plain": [
       "(1, 3, 1)"
      ]
     },
     "execution_count": 84,
     "metadata": {},
     "output_type": "execute_result"
    }
   ],
   "source": [
    "X.shape"
   ]
  },
  {
   "cell_type": "code",
   "execution_count": 85,
   "metadata": {
    "executionInfo": {
     "elapsed": 17,
     "status": "ok",
     "timestamp": 1628018835515,
     "user": {
      "displayName": "Stelios Argyrou",
      "photoUrl": "https://lh3.googleusercontent.com/a-/AOh14Ggy0Znxg9S2zBfesNyH-Z_hcNqT9q14SjJGYdEgbw=s64",
      "userId": "16746687086442079738"
     },
     "user_tz": -60
    },
    "id": "jm-T4H4I7UaV"
   },
   "outputs": [],
   "source": [
    "n_input = 12\n",
    "generator = TimeseriesGenerator(scaled_train, scaled_train, length=n_input, batch_size=1)"
   ]
  },
  {
   "cell_type": "code",
   "execution_count": 86,
   "metadata": {
    "executionInfo": {
     "elapsed": 16,
     "status": "ok",
     "timestamp": 1628018835515,
     "user": {
      "displayName": "Stelios Argyrou",
      "photoUrl": "https://lh3.googleusercontent.com/a-/AOh14Ggy0Znxg9S2zBfesNyH-Z_hcNqT9q14SjJGYdEgbw=s64",
      "userId": "16746687086442079738"
     },
     "user_tz": -60
    },
    "id": "bzIs_l_k7Zqg"
   },
   "outputs": [],
   "source": [
    "from keras.models import Sequential\n",
    "from keras.layers import Dense\n",
    "from keras.layers import LSTM"
   ]
  },
  {
   "cell_type": "code",
   "execution_count": 87,
   "metadata": {
    "executionInfo": {
     "elapsed": 17,
     "status": "ok",
     "timestamp": 1628018835516,
     "user": {
      "displayName": "Stelios Argyrou",
      "photoUrl": "https://lh3.googleusercontent.com/a-/AOh14Ggy0Znxg9S2zBfesNyH-Z_hcNqT9q14SjJGYdEgbw=s64",
      "userId": "16746687086442079738"
     },
     "user_tz": -60
    },
    "id": "eJa-wFQf7jw6"
   },
   "outputs": [],
   "source": [
    "# define model\n",
    "model = Sequential()\n",
    "model.add(LSTM(100, activation='relu', input_shape=(n_input, n_features)))\n",
    "model.add(Dense(1))\n",
    "model.compile(optimizer='adam', loss='mse')"
   ]
  },
  {
   "cell_type": "code",
   "execution_count": 88,
   "metadata": {
    "colab": {
     "base_uri": "https://localhost:8080/"
    },
    "executionInfo": {
     "elapsed": 16,
     "status": "ok",
     "timestamp": 1628018835516,
     "user": {
      "displayName": "Stelios Argyrou",
      "photoUrl": "https://lh3.googleusercontent.com/a-/AOh14Ggy0Znxg9S2zBfesNyH-Z_hcNqT9q14SjJGYdEgbw=s64",
      "userId": "16746687086442079738"
     },
     "user_tz": -60
    },
    "id": "7i4ucUNv7lbk",
    "outputId": "789b6b00-89bd-4b01-e20c-2d5dcba02ac4"
   },
   "outputs": [
    {
     "name": "stdout",
     "output_type": "stream",
     "text": [
      "Model: \"sequential_1\"\n",
      "_________________________________________________________________\n",
      "Layer (type)                 Output Shape              Param #   \n",
      "=================================================================\n",
      "lstm_1 (LSTM)                (None, 100)               40800     \n",
      "_________________________________________________________________\n",
      "dense_1 (Dense)              (None, 1)                 101       \n",
      "=================================================================\n",
      "Total params: 40,901\n",
      "Trainable params: 40,901\n",
      "Non-trainable params: 0\n",
      "_________________________________________________________________\n"
     ]
    }
   ],
   "source": [
    "model.summary()"
   ]
  },
  {
   "cell_type": "code",
   "execution_count": 89,
   "metadata": {
    "colab": {
     "base_uri": "https://localhost:8080/"
    },
    "executionInfo": {
     "elapsed": 275384,
     "status": "ok",
     "timestamp": 1628019110887,
     "user": {
      "displayName": "Stelios Argyrou",
      "photoUrl": "https://lh3.googleusercontent.com/a-/AOh14Ggy0Znxg9S2zBfesNyH-Z_hcNqT9q14SjJGYdEgbw=s64",
      "userId": "16746687086442079738"
     },
     "user_tz": -60
    },
    "id": "p8yqUZaz7nwp",
    "outputId": "ce94e106-90b7-438b-9f17-cf3a3dda8883"
   },
   "outputs": [
    {
     "name": "stdout",
     "output_type": "stream",
     "text": [
      "Epoch 1/10\n",
      "1009/1009 [==============================] - 5s 4ms/step - loss: 0.0171\n",
      "Epoch 2/10\n",
      "1009/1009 [==============================] - 3s 3ms/step - loss: 0.0090\n",
      "Epoch 3/10\n",
      "1009/1009 [==============================] - 3s 3ms/step - loss: 0.0086\n",
      "Epoch 4/10\n",
      "1009/1009 [==============================] - 3s 3ms/step - loss: 0.0083\n",
      "Epoch 5/10\n",
      "1009/1009 [==============================] - 3s 3ms/step - loss: 0.0082\n",
      "Epoch 6/10\n",
      "1009/1009 [==============================] - 3s 3ms/step - loss: 0.0080\n",
      "Epoch 7/10\n",
      "1009/1009 [==============================] - 4s 4ms/step - loss: 0.0078\n",
      "Epoch 8/10\n",
      "1009/1009 [==============================] - 3s 3ms/step - loss: 0.0076\n",
      "Epoch 9/10\n",
      "1009/1009 [==============================] - 3s 3ms/step - loss: 0.0076\n",
      "Epoch 10/10\n",
      "1009/1009 [==============================] - 3s 3ms/step - loss: 0.0076\n"
     ]
    },
    {
     "data": {
      "text/plain": [
       "<keras.callbacks.History at 0x20e61b69fd0>"
      ]
     },
     "execution_count": 89,
     "metadata": {},
     "output_type": "execute_result"
    }
   ],
   "source": [
    "# fit model\n",
    "model.fit(generator,epochs= 10)"
   ]
  },
  {
   "cell_type": "code",
   "execution_count": 90,
   "metadata": {
    "colab": {
     "base_uri": "https://localhost:8080/",
     "height": 282
    },
    "executionInfo": {
     "elapsed": 23,
     "status": "ok",
     "timestamp": 1628019110891,
     "user": {
      "displayName": "Stelios Argyrou",
      "photoUrl": "https://lh3.googleusercontent.com/a-/AOh14Ggy0Znxg9S2zBfesNyH-Z_hcNqT9q14SjJGYdEgbw=s64",
      "userId": "16746687086442079738"
     },
     "user_tz": -60
    },
    "id": "OjDsOKR67rs8",
    "outputId": "27e0b4f0-cbe5-41e9-b440-8e5de4ea6829"
   },
   "outputs": [
    {
     "data": {
      "text/plain": [
       "[<matplotlib.lines.Line2D at 0x20e5f44ef10>]"
      ]
     },
     "execution_count": 90,
     "metadata": {},
     "output_type": "execute_result"
    },
    {
     "data": {
      "image/png": "[encoded data removed]",
      "text/plain": [
       "<Figure size 432x288 with 1 Axes>"
      ]
     },
     "metadata": {
      "needs_background": "light"
     },
     "output_type": "display_data"
    }
   ],
   "source": [
    "loss_per_epoch = model.history.history['loss']\n",
    "plt.plot(range(len(loss_per_epoch)),loss_per_epoch)"
   ]
  },
  {
   "cell_type": "code",
   "execution_count": 91,
   "metadata": {
    "executionInfo": {
     "elapsed": 13,
     "status": "ok",
     "timestamp": 1628019110892,
     "user": {
      "displayName": "Stelios Argyrou",
      "photoUrl": "https://lh3.googleusercontent.com/a-/AOh14Ggy0Znxg9S2zBfesNyH-Z_hcNqT9q14SjJGYdEgbw=s64",
      "userId": "16746687086442079738"
     },
     "user_tz": -60
    },
    "id": "h6h-fell70_S"
   },
   "outputs": [],
   "source": [
    "last_train_batch = scaled_train[-12:]"
   ]
  },
  {
   "cell_type": "code",
   "execution_count": 92,
   "metadata": {
    "executionInfo": {
     "elapsed": 4,
     "status": "ok",
     "timestamp": 1628019111245,
     "user": {
      "displayName": "Stelios Argyrou",
      "photoUrl": "https://lh3.googleusercontent.com/a-/AOh14Ggy0Znxg9S2zBfesNyH-Z_hcNqT9q14SjJGYdEgbw=s64",
      "userId": "16746687086442079738"
     },
     "user_tz": -60
    },
    "id": "cwwv8O-p79bN"
   },
   "outputs": [],
   "source": [
    "last_train_batch = last_train_batch.reshape((1, n_input, n_features))"
   ]
  },
  {
   "cell_type": "code",
   "execution_count": 93,
   "metadata": {
    "colab": {
     "base_uri": "https://localhost:8080/"
    },
    "executionInfo": {
     "elapsed": 282,
     "status": "ok",
     "timestamp": 1628019111524,
     "user": {
      "displayName": "Stelios Argyrou",
      "photoUrl": "https://lh3.googleusercontent.com/a-/AOh14Ggy0Znxg9S2zBfesNyH-Z_hcNqT9q14SjJGYdEgbw=s64",
      "userId": "16746687086442079738"
     },
     "user_tz": -60
    },
    "id": "v-4WD4t78MpJ",
    "outputId": "3ef82a63-982d-4017-f82d-2c4f3f622bc3"
   },
   "outputs": [
    {
     "data": {
      "text/plain": [
       "array([[0.7051092]], dtype=float32)"
      ]
     },
     "execution_count": 93,
     "metadata": {},
     "output_type": "execute_result"
    }
   ],
   "source": [
    "model.predict(last_train_batch)"
   ]
  },
  {
   "cell_type": "code",
   "execution_count": 94,
   "metadata": {
    "colab": {
     "base_uri": "https://localhost:8080/"
    },
    "executionInfo": {
     "elapsed": 7,
     "status": "ok",
     "timestamp": 1628019111525,
     "user": {
      "displayName": "Stelios Argyrou",
      "photoUrl": "https://lh3.googleusercontent.com/a-/AOh14Ggy0Znxg9S2zBfesNyH-Z_hcNqT9q14SjJGYdEgbw=s64",
      "userId": "16746687086442079738"
     },
     "user_tz": -60
    },
    "id": "ZbojFADE8StA",
    "outputId": "54556a2d-282f-44dc-bbb4-acc629da6a45"
   },
   "outputs": [
    {
     "data": {
      "text/plain": [
       "array([0.58553157])"
      ]
     },
     "execution_count": 94,
     "metadata": {},
     "output_type": "execute_result"
    }
   ],
   "source": [
    "scaled_test[0]"
   ]
  },
  {
   "cell_type": "code",
   "execution_count": 95,
   "metadata": {
    "executionInfo": {
     "elapsed": 12436,
     "status": "ok",
     "timestamp": 1628019123956,
     "user": {
      "displayName": "Stelios Argyrou",
      "photoUrl": "https://lh3.googleusercontent.com/a-/AOh14Ggy0Znxg9S2zBfesNyH-Z_hcNqT9q14SjJGYdEgbw=s64",
      "userId": "16746687086442079738"
     },
     "user_tz": -60
    },
    "id": "_MP-5Wez8jbY"
   },
   "outputs": [],
   "source": [
    "test_predictions = []\n",
    "\n",
    "first_eval_batch = scaled_train[-n_input:]\n",
    "current_batch = first_eval_batch.reshape((1, n_input, n_features))\n",
    "\n",
    "for i in range(len(test)):\n",
    "    \n",
    "    # get the prediction value for the first batch\n",
    "    current_pred = model.predict(current_batch)[0]\n",
    "    \n",
    "    # append the prediction into the array\n",
    "    test_predictions.append(current_pred) \n",
    "    \n",
    "    # use the prediction to update the batch and remove the first value\n",
    "    current_batch = np.append(current_batch[:,1:,:],[[current_pred]],axis=1)"
   ]
  },
  {
   "cell_type": "code",
   "execution_count": 96,
   "metadata": {
    "colab": {
     "base_uri": "https://localhost:8080/"
    },
    "executionInfo": {
     "elapsed": 40,
     "status": "ok",
     "timestamp": 1628019123965,
     "user": {
      "displayName": "Stelios Argyrou",
      "photoUrl": "https://lh3.googleusercontent.com/a-/AOh14Ggy0Znxg9S2zBfesNyH-Z_hcNqT9q14SjJGYdEgbw=s64",
      "userId": "16746687086442079738"
     },
     "user_tz": -60
    },
    "id": "_mhvFuEy8sB7",
    "outputId": "e0444906-8ded-4a2b-c897-cb4922a78c81"
   },
   "outputs": [
    {
     "data": {
      "text/plain": [
       "[array([0.7051092], dtype=float32),\n",
       " array([0.71235055], dtype=float32),\n",
       " array([0.7138036], dtype=float32),\n",
       " array([0.71503854], dtype=float32),\n",
       " array([0.7161233], dtype=float32),\n",
       " array([0.71826565], dtype=float32),\n",
       " array([0.7203706], dtype=float32),\n",
       " array([0.7213622], dtype=float32),\n",
       " array([0.7224872], dtype=float32),\n",
       " array([0.7240901], dtype=float32),\n",
       " array([0.72494495], dtype=float32),\n",
       " array([0.72577125], dtype=float32),\n",
       " array([0.7276433], dtype=float32),\n",
       " array([0.72890997], dtype=float32),\n",
       " array([0.7300422], dtype=float32),\n",
       " array([0.7311245], dtype=float32),\n",
       " array([0.7321633], dtype=float32),\n",
       " array([0.73316306], dtype=float32),\n",
       " array([0.7341186], dtype=float32),\n",
       " array([0.73502934], dtype=float32),\n",
       " array([0.7359057], dtype=float32),\n",
       " array([0.73674875], dtype=float32),\n",
       " array([0.7375547], dtype=float32),\n",
       " array([0.7383303], dtype=float32),\n",
       " array([0.7390775], dtype=float32),\n",
       " array([0.73978895], dtype=float32),\n",
       " array([0.74046934], dtype=float32),\n",
       " array([0.7411216], dtype=float32),\n",
       " array([0.74174654], dtype=float32),\n",
       " array([0.7423454], dtype=float32),\n",
       " array([0.7429191], dtype=float32),\n",
       " array([0.7434692], dtype=float32),\n",
       " array([0.7439961], dtype=float32),\n",
       " array([0.74450105], dtype=float32),\n",
       " array([0.7449851], dtype=float32),\n",
       " array([0.7454488], dtype=float32),\n",
       " array([0.7458934], dtype=float32),\n",
       " array([0.7463194], dtype=float32),\n",
       " array([0.7467277], dtype=float32),\n",
       " array([0.7471189], dtype=float32),\n",
       " array([0.74749386], dtype=float32),\n",
       " array([0.7478532], dtype=float32),\n",
       " array([0.7481977], dtype=float32),\n",
       " array([0.7485278], dtype=float32),\n",
       " array([0.7488443], dtype=float32),\n",
       " array([0.7491476], dtype=float32),\n",
       " array([0.74943835], dtype=float32),\n",
       " array([0.74971706], dtype=float32),\n",
       " array([0.74998415], dtype=float32),\n",
       " array([0.75024027], dtype=float32),\n",
       " array([0.75048566], dtype=float32),\n",
       " array([0.75072086], dtype=float32),\n",
       " array([0.75094646], dtype=float32),\n",
       " array([0.7511626], dtype=float32),\n",
       " array([0.7513698], dtype=float32),\n",
       " array([0.7515685], dtype=float32),\n",
       " array([0.75175893], dtype=float32),\n",
       " array([0.7519415], dtype=float32),\n",
       " array([0.75211644], dtype=float32),\n",
       " array([0.7522843], dtype=float32),\n",
       " array([0.75244516], dtype=float32),\n",
       " array([0.75259924], dtype=float32),\n",
       " array([0.75274706], dtype=float32),\n",
       " array([0.7528888], dtype=float32),\n",
       " array([0.7530247], dtype=float32),\n",
       " array([0.753155], dtype=float32),\n",
       " array([0.7532798], dtype=float32),\n",
       " array([0.75339955], dtype=float32),\n",
       " array([0.75351435], dtype=float32),\n",
       " array([0.7536244], dtype=float32),\n",
       " array([0.7537298], dtype=float32),\n",
       " array([0.753831], dtype=float32),\n",
       " array([0.75392795], dtype=float32),\n",
       " array([0.7540209], dtype=float32),\n",
       " array([0.75411], dtype=float32),\n",
       " array([0.75419545], dtype=float32),\n",
       " array([0.75427735], dtype=float32),\n",
       " array([0.7543559], dtype=float32),\n",
       " array([0.7544312], dtype=float32),\n",
       " array([0.7545034], dtype=float32),\n",
       " array([0.75457275], dtype=float32),\n",
       " array([0.754639], dtype=float32),\n",
       " array([0.7547026], dtype=float32),\n",
       " array([0.7547637], dtype=float32),\n",
       " array([0.75482225], dtype=float32),\n",
       " array([0.75487834], dtype=float32),\n",
       " array([0.7549319], dtype=float32),\n",
       " array([0.7549834], dtype=float32),\n",
       " array([0.755033], dtype=float32),\n",
       " array([0.75508034], dtype=float32),\n",
       " array([0.75512576], dtype=float32),\n",
       " array([0.75516933], dtype=float32),\n",
       " array([0.75521106], dtype=float32),\n",
       " array([0.75525105], dtype=float32),\n",
       " array([0.75528955], dtype=float32),\n",
       " array([0.7553264], dtype=float32),\n",
       " array([0.7553617], dtype=float32),\n",
       " array([0.7553955], dtype=float32),\n",
       " array([0.7554279], dtype=float32),\n",
       " array([0.7554591], dtype=float32),\n",
       " array([0.7554889], dtype=float32),\n",
       " array([0.7555174], dtype=float32),\n",
       " array([0.7555449], dtype=float32),\n",
       " array([0.7555711], dtype=float32),\n",
       " array([0.7555964], dtype=float32),\n",
       " array([0.7556205], dtype=float32),\n",
       " array([0.75564367], dtype=float32),\n",
       " array([0.75566584], dtype=float32),\n",
       " array([0.7556872], dtype=float32),\n",
       " array([0.75570756], dtype=float32),\n",
       " array([0.75572705], dtype=float32),\n",
       " array([0.7557459], dtype=float32),\n",
       " array([0.75576395], dtype=float32),\n",
       " array([0.75578105], dtype=float32),\n",
       " array([0.75579774], dtype=float32),\n",
       " array([0.75581354], dtype=float32),\n",
       " array([0.7558288], dtype=float32),\n",
       " array([0.7558434], dtype=float32),\n",
       " array([0.75585747], dtype=float32),\n",
       " array([0.7558709], dtype=float32),\n",
       " array([0.7558838], dtype=float32),\n",
       " array([0.7558961], dtype=float32),\n",
       " array([0.755908], dtype=float32),\n",
       " array([0.75591934], dtype=float32),\n",
       " array([0.7559303], dtype=float32),\n",
       " array([0.75594074], dtype=float32),\n",
       " array([0.7559507], dtype=float32),\n",
       " array([0.7559603], dtype=float32),\n",
       " array([0.75596946], dtype=float32),\n",
       " array([0.7559783], dtype=float32),\n",
       " array([0.75598687], dtype=float32),\n",
       " array([0.755995], dtype=float32),\n",
       " array([0.75600266], dtype=float32),\n",
       " array([0.7560101], dtype=float32),\n",
       " array([0.7560173], dtype=float32),\n",
       " array([0.75602424], dtype=float32),\n",
       " array([0.7560308], dtype=float32),\n",
       " array([0.7560371], dtype=float32),\n",
       " array([0.7560431], dtype=float32),\n",
       " array([0.75604886], dtype=float32),\n",
       " array([0.7560544], dtype=float32),\n",
       " array([0.75605977], dtype=float32),\n",
       " array([0.75606483], dtype=float32),\n",
       " array([0.7560698], dtype=float32),\n",
       " array([0.7560744], dtype=float32),\n",
       " array([0.75607896], dtype=float32),\n",
       " array([0.7560833], dtype=float32),\n",
       " array([0.7560875], dtype=float32),\n",
       " array([0.7560913], dtype=float32),\n",
       " array([0.7560952], dtype=float32),\n",
       " array([0.75609887], dtype=float32),\n",
       " array([0.75610226], dtype=float32),\n",
       " array([0.75610566], dtype=float32),\n",
       " array([0.7561089], dtype=float32),\n",
       " array([0.75611186], dtype=float32),\n",
       " array([0.7561148], dtype=float32),\n",
       " array([0.75611764], dtype=float32),\n",
       " array([0.7561203], dtype=float32),\n",
       " array([0.756123], dtype=float32),\n",
       " array([0.75612545], dtype=float32),\n",
       " array([0.75612783], dtype=float32),\n",
       " array([0.7561302], dtype=float32),\n",
       " array([0.75613236], dtype=float32),\n",
       " array([0.75613445], dtype=float32),\n",
       " array([0.7561365], dtype=float32),\n",
       " array([0.75613844], dtype=float32),\n",
       " array([0.75614035], dtype=float32),\n",
       " array([0.7561421], dtype=float32),\n",
       " array([0.7561438], dtype=float32),\n",
       " array([0.7561454], dtype=float32),\n",
       " array([0.7561469], dtype=float32),\n",
       " array([0.75614834], dtype=float32),\n",
       " array([0.7561498], dtype=float32),\n",
       " array([0.7561513], dtype=float32),\n",
       " array([0.7561525], dtype=float32),\n",
       " array([0.7561538], dtype=float32),\n",
       " array([0.756155], dtype=float32),\n",
       " array([0.75615615], dtype=float32),\n",
       " array([0.7561572], dtype=float32),\n",
       " array([0.75615823], dtype=float32),\n",
       " array([0.75615937], dtype=float32),\n",
       " array([0.7561603], dtype=float32),\n",
       " array([0.7561613], dtype=float32),\n",
       " array([0.7561623], dtype=float32),\n",
       " array([0.756163], dtype=float32),\n",
       " array([0.7561637], dtype=float32),\n",
       " array([0.7561647], dtype=float32),\n",
       " array([0.75616544], dtype=float32),\n",
       " array([0.7561661], dtype=float32),\n",
       " array([0.7561669], dtype=float32),\n",
       " array([0.7561676], dtype=float32),\n",
       " array([0.7561682], dtype=float32),\n",
       " array([0.7561688], dtype=float32),\n",
       " array([0.7561694], dtype=float32),\n",
       " array([0.7561699], dtype=float32),\n",
       " array([0.7561704], dtype=float32),\n",
       " array([0.756171], dtype=float32),\n",
       " array([0.7561716], dtype=float32),\n",
       " array([0.7561721], dtype=float32),\n",
       " array([0.75617254], dtype=float32),\n",
       " array([0.756173], dtype=float32),\n",
       " array([0.7561734], dtype=float32),\n",
       " array([0.75617385], dtype=float32),\n",
       " array([0.75617415], dtype=float32),\n",
       " array([0.75617445], dtype=float32),\n",
       " array([0.7561748], dtype=float32),\n",
       " array([0.75617516], dtype=float32),\n",
       " array([0.7561755], dtype=float32),\n",
       " array([0.7561759], dtype=float32),\n",
       " array([0.7561762], dtype=float32),\n",
       " array([0.75617653], dtype=float32),\n",
       " array([0.7561767], dtype=float32),\n",
       " array([0.75617695], dtype=float32),\n",
       " array([0.7561772], dtype=float32),\n",
       " array([0.7561774], dtype=float32),\n",
       " array([0.7561778], dtype=float32),\n",
       " array([0.756178], dtype=float32),\n",
       " array([0.7561782], dtype=float32),\n",
       " array([0.75617844], dtype=float32),\n",
       " array([0.7561786], dtype=float32),\n",
       " array([0.75617886], dtype=float32),\n",
       " array([0.7561791], dtype=float32),\n",
       " array([0.7561792], dtype=float32),\n",
       " array([0.75617933], dtype=float32),\n",
       " array([0.75617945], dtype=float32),\n",
       " array([0.7561797], dtype=float32),\n",
       " array([0.7561798], dtype=float32),\n",
       " array([0.7561799], dtype=float32),\n",
       " array([0.75618005], dtype=float32),\n",
       " array([0.75618017], dtype=float32),\n",
       " array([0.7561803], dtype=float32),\n",
       " array([0.7561804], dtype=float32),\n",
       " array([0.7561805], dtype=float32),\n",
       " array([0.75618064], dtype=float32),\n",
       " array([0.75618076], dtype=float32),\n",
       " array([0.7561809], dtype=float32),\n",
       " array([0.75618094], dtype=float32),\n",
       " array([0.756181], dtype=float32),\n",
       " array([0.7561812], dtype=float32),\n",
       " array([0.7561812], dtype=float32),\n",
       " array([0.75618124], dtype=float32),\n",
       " array([0.75618136], dtype=float32),\n",
       " array([0.75618136], dtype=float32),\n",
       " array([0.7561814], dtype=float32),\n",
       " array([0.7561814], dtype=float32),\n",
       " array([0.7561815], dtype=float32),\n",
       " array([0.7561816], dtype=float32),\n",
       " array([0.7561816], dtype=float32),\n",
       " array([0.75618166], dtype=float32),\n",
       " array([0.75618166], dtype=float32),\n",
       " array([0.7561817], dtype=float32),\n",
       " array([0.7561818], dtype=float32),\n",
       " array([0.75618184], dtype=float32),\n",
       " array([0.75618184], dtype=float32),\n",
       " array([0.75618196], dtype=float32),\n",
       " array([0.7561821], dtype=float32)]"
      ]
     },
     "execution_count": 96,
     "metadata": {},
     "output_type": "execute_result"
    }
   ],
   "source": [
    "test_predictions"
   ]
  },
  {
   "cell_type": "code",
   "execution_count": 97,
   "metadata": {
    "colab": {
     "base_uri": "https://localhost:8080/",
     "height": 227
    },
    "executionInfo": {
     "elapsed": 38,
     "status": "ok",
     "timestamp": 1628019123966,
     "user": {
      "displayName": "Stelios Argyrou",
      "photoUrl": "https://lh3.googleusercontent.com/a-/AOh14Ggy0Znxg9S2zBfesNyH-Z_hcNqT9q14SjJGYdEgbw=s64",
      "userId": "16746687086442079738"
     },
     "user_tz": -60
    },
    "id": "YYSqV10E9hlO",
    "outputId": "12ba3f38-bd0c-41b8-bf83-7000fc98e042"
   },
   "outputs": [
    {
     "data": {
      "text/html": [
       "<div>\n",
       "<style scoped>\n",
       "    .dataframe tbody tr th:only-of-type {\n",
       "        vertical-align: middle;\n",
       "    }\n",
       "\n",
       "    .dataframe tbody tr th {\n",
       "        vertical-align: top;\n",
       "    }\n",
       "\n",
       "    .dataframe thead th {\n",
       "        text-align: right;\n",
       "    }\n",
       "</style>\n",
       "<table border=\"1\" class=\"dataframe\">\n",
       "  <thead>\n",
       "    <tr style=\"text-align: right;\">\n",
       "      <th></th>\n",
       "      <th>TNO Offs</th>\n",
       "    </tr>\n",
       "    <tr>\n",
       "      <th>date</th>\n",
       "      <th></th>\n",
       "    </tr>\n",
       "  </thead>\n",
       "  <tbody>\n",
       "    <tr>\n",
       "      <th>2020-10-18</th>\n",
       "      <td>2001.0</td>\n",
       "    </tr>\n",
       "    <tr>\n",
       "      <th>2020-10-19</th>\n",
       "      <td>2397.0</td>\n",
       "    </tr>\n",
       "    <tr>\n",
       "      <th>2020-10-20</th>\n",
       "      <td>2582.0</td>\n",
       "    </tr>\n",
       "    <tr>\n",
       "      <th>2020-10-21</th>\n",
       "      <td>2326.0</td>\n",
       "    </tr>\n",
       "    <tr>\n",
       "      <th>2020-10-22</th>\n",
       "      <td>2466.0</td>\n",
       "    </tr>\n",
       "  </tbody>\n",
       "</table>\n",
       "</div>"
      ],
      "text/plain": [
       "            TNO Offs\n",
       "date                \n",
       "2020-10-18    2001.0\n",
       "2020-10-19    2397.0\n",
       "2020-10-20    2582.0\n",
       "2020-10-21    2326.0\n",
       "2020-10-22    2466.0"
      ]
     },
     "execution_count": 97,
     "metadata": {},
     "output_type": "execute_result"
    }
   ],
   "source": [
    "test.head()"
   ]
  },
  {
   "cell_type": "code",
   "execution_count": 98,
   "metadata": {
    "executionInfo": {
     "elapsed": 40,
     "status": "ok",
     "timestamp": 1628019123970,
     "user": {
      "displayName": "Stelios Argyrou",
      "photoUrl": "https://lh3.googleusercontent.com/a-/AOh14Ggy0Znxg9S2zBfesNyH-Z_hcNqT9q14SjJGYdEgbw=s64",
      "userId": "16746687086442079738"
     },
     "user_tz": -60
    },
    "id": "BHHzjNDK9EJZ"
   },
   "outputs": [],
   "source": [
    "true_predictions = scaler.inverse_transform(test_predictions)"
   ]
  },
  {
   "cell_type": "code",
   "execution_count": 99,
   "metadata": {
    "colab": {
     "base_uri": "https://localhost:8080/"
    },
    "executionInfo": {
     "elapsed": 40,
     "status": "ok",
     "timestamp": 1628019123972,
     "user": {
      "displayName": "Stelios Argyrou",
      "photoUrl": "https://lh3.googleusercontent.com/a-/AOh14Ggy0Znxg9S2zBfesNyH-Z_hcNqT9q14SjJGYdEgbw=s64",
      "userId": "16746687086442079738"
     },
     "user_tz": -60
    },
    "id": "0dsN45zf9I9u",
    "outputId": "f8acc19e-cef1-4f4a-ed25-d03198eaddbc"
   },
   "outputs": [
    {
     "name": "stderr",
     "output_type": "stream",
     "text": [
      "<ipython-input-99-920b79c3c314>:1: SettingWithCopyWarning: \n",
      "A value is trying to be set on a copy of a slice from a DataFrame.\n",
      "Try using .loc[row_indexer,col_indexer] = value instead\n",
      "\n",
      "See the caveats in the documentation: https://pandas.pydata.org/pandas-docs/stable/user_guide/indexing.html#returning-a-view-versus-a-copy\n",
      "  test['Predictions'] = true_predictions\n"
     ]
    }
   ],
   "source": [
    "test['Predictions'] = true_predictions"
   ]
  },
  {
   "cell_type": "code",
   "execution_count": 100,
   "metadata": {
    "colab": {
     "base_uri": "https://localhost:8080/",
     "height": 362
    },
    "executionInfo": {
     "elapsed": 669,
     "status": "ok",
     "timestamp": 1628019124620,
     "user": {
      "displayName": "Stelios Argyrou",
      "photoUrl": "https://lh3.googleusercontent.com/a-/AOh14Ggy0Znxg9S2zBfesNyH-Z_hcNqT9q14SjJGYdEgbw=s64",
      "userId": "16746687086442079738"
     },
     "user_tz": -60
    },
    "id": "xJ7sI5xh9Lb0",
    "outputId": "80b9078e-9d07-4c42-fbc4-1f72abd5a8e2"
   },
   "outputs": [
    {
     "data": {
      "text/plain": [
       "<AxesSubplot:xlabel='date'>"
      ]
     },
     "execution_count": 100,
     "metadata": {},
     "output_type": "execute_result"
    },
    {
     "data": {
      "image/png": "[encoded data removed]",
      "text/plain": [
       "<Figure size 1008x360 with 1 Axes>"
      ]
     },
     "metadata": {
      "needs_background": "light"
     },
     "output_type": "display_data"
    }
   ],
   "source": [
    "test.plot(figsize=(14,5))"
   ]
  },
  {
   "cell_type": "code",
   "execution_count": 101,
   "metadata": {
    "colab": {
     "base_uri": "https://localhost:8080/"
    },
    "executionInfo": {
     "elapsed": 12,
     "status": "ok",
     "timestamp": 1628019124621,
     "user": {
      "displayName": "Stelios Argyrou",
      "photoUrl": "https://lh3.googleusercontent.com/a-/AOh14Ggy0Znxg9S2zBfesNyH-Z_hcNqT9q14SjJGYdEgbw=s64",
      "userId": "16746687086442079738"
     },
     "user_tz": -60
    },
    "id": "OCsYjzge9OVe",
    "outputId": "c4fd8197-bd5e-46bf-a2f7-f48bdd4aea42"
   },
   "outputs": [
    {
     "name": "stdout",
     "output_type": "stream",
     "text": [
      "Mean Value: 2043.09765625\n",
      "RMSE: 482.7182340231211\n",
      "R2 Score: -1.6148003095706325\n"
     ]
    }
   ],
   "source": [
    "from sklearn.metrics import mean_squared_error, r2_score\n",
    "from math import sqrt\n",
    "rmse=sqrt(mean_squared_error(test['TNO Offs'],test['Predictions']))\n",
    "print(\"Mean Value:\", test[\"TNO Offs\"].mean())\n",
    "print(\"RMSE:\",rmse)\n",
    "print(\"R2 Score:\",r2_score(test['TNO Offs'],test['Predictions']))"
   ]
  },
  {
   "cell_type": "code",
   "execution_count": null,
   "metadata": {},
   "outputs": [],
   "source": []
  }
 ],
 "metadata": {
  "colab": {
   "collapsed_sections": [],
   "name": "RNN.ipynb",
   "provenance": []
  },
  "kernelspec": {
   "display_name": "Python 3",
   "language": "python",
   "name": "python3"
  },
  "language_info": {
   "codemirror_mode": {
    "name": "ipython",
    "version": 3
   },
   "file_extension": ".py",
   "mimetype": "text/x-python",
   "name": "python",
   "nbconvert_exporter": "python",
   "pygments_lexer": "ipython3",
   "version": "3.8.8"
  }
 },
 "nbformat": 4,
 "nbformat_minor": 1
}
