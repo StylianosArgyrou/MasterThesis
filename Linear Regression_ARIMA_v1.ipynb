{
 "cells": [
  {
   "cell_type": "code",
   "execution_count": 1,
   "metadata": {
    "colab": {
     "base_uri": "https://localhost:8080/"
    },
    "executionInfo": {
     "elapsed": 19069,
     "status": "ok",
     "timestamp": 1628288132861,
     "user": {
      "displayName": "Stelios Argyrou",
      "photoUrl": "https://lh3.googleusercontent.com/a-/AOh14Ggy0Znxg9S2zBfesNyH-Z_hcNqT9q14SjJGYdEgbw=s64",
      "userId": "16746687086442079738"
     },
     "user_tz": -60
    },
    "id": "9BSwQx6J5wKj",
    "outputId": "cb5bd5bd-5fe1-4635-bca2-9fbfac574123"
   },
   "outputs": [],
   "source": [
    "# Used for Google Colab\n",
    "# from google.colab import drive\n",
    "# drive.mount('/content/drive')"
   ]
  },
  {
   "cell_type": "code",
   "execution_count": 2,
   "metadata": {
    "colab": {
     "base_uri": "https://localhost:8080/"
    },
    "executionInfo": {
     "elapsed": 2221,
     "status": "ok",
     "timestamp": 1628288135074,
     "user": {
      "displayName": "Stelios Argyrou",
      "photoUrl": "https://lh3.googleusercontent.com/a-/AOh14Ggy0Znxg9S2zBfesNyH-Z_hcNqT9q14SjJGYdEgbw=s64",
      "userId": "16746687086442079738"
     },
     "user_tz": -60
    },
    "id": "q1NmxSit57vd",
    "outputId": "d3559ded-e22c-4906-c086-e967619e7342"
   },
   "outputs": [],
   "source": [
    "import pandas as pd\n",
    "import numpy as np\n",
    "import matplotlib.pyplot as plt\n",
    "import statsmodels.api as sm\n",
    "from statsmodels.tsa.stattools import adfuller\n",
    "from statsmodels.graphics.tsaplots import plot_pacf\n",
    "from sklearn.linear_model import LinearRegression\n",
    "from sklearn.metrics import mean_squared_error, r2_score\n",
    "from statsmodels.tsa.arima_model import ARIMA\n",
    "from numpy.core.defchararray import add\n",
    "import math"
   ]
  },
  {
   "cell_type": "code",
   "execution_count": 3,
   "metadata": {
    "executionInfo": {
     "elapsed": 6,
     "status": "ok",
     "timestamp": 1628288135074,
     "user": {
      "displayName": "Stelios Argyrou",
      "photoUrl": "https://lh3.googleusercontent.com/a-/AOh14Ggy0Znxg9S2zBfesNyH-Z_hcNqT9q14SjJGYdEgbw=s64",
      "userId": "16746687086442079738"
     },
     "user_tz": -60
    },
    "id": "Kf83ssno6FOT"
   },
   "outputs": [],
   "source": [
    "%matplotlib inline"
   ]
  },
  {
   "cell_type": "code",
   "execution_count": 4,
   "metadata": {
    "colab": {
     "base_uri": "https://localhost:8080/"
    },
    "executionInfo": {
     "elapsed": 20079,
     "status": "ok",
     "timestamp": 1628288155149,
     "user": {
      "displayName": "Stelios Argyrou",
      "photoUrl": "https://lh3.googleusercontent.com/a-/AOh14Ggy0Znxg9S2zBfesNyH-Z_hcNqT9q14SjJGYdEgbw=s64",
      "userId": "16746687086442079738"
     },
     "user_tz": -60
    },
    "id": "8AxwYELk6Q7c",
    "outputId": "c44a3b8e-f1ac-4a98-a35a-edf621cf999d"
   },
   "outputs": [
    {
     "name": "stderr",
     "output_type": "stream",
     "text": [
      "<ipython-input-4-218bddb8a50c>:10: FutureWarning: DataFrame.mean and DataFrame.median with numeric_only=None will include datetime64 and datetime64tz columns in a future version.\n",
      "  data = data.fillna(data.mean())\n"
     ]
    }
   ],
   "source": [
    "# Dataset merging and cleaning\n",
    "# data = pd.read_excel('/content/drive/My Drive/MOPAC/Crime/Borough Daily 2018-20.xlsx')\n",
    "# data2021 = pd.read_excel('/content/drive/My Drive/MOPAC/Crime/Borough Daily Data 2021.xlsx')\n",
    "\n",
    "data = pd.read_excel('../Crime/Borough Daily 2018-20.xlsx')\n",
    "data2021 = pd.read_excel('../Crime/Borough Daily Data 2021.xlsx')\n",
    "\n",
    "df = pd.concat([data, data2021])\n",
    "data = df\n",
    "data = data.fillna(data.mean())\n",
    "data = data.rename(columns={'Date - Daily Data': 'date'})\n",
    "# data = data.rename(columns={'Month-Year': 'date'})\n",
    "data = data.groupby(by=\"date\").sum()\n",
    "\n",
    "df = data[\"TNO Offs\"].to_frame()\n",
    "df[\"months\"] = np.arange(df.shape[0])\n",
    "df = df.reset_index(drop=True)"
   ]
  },
  {
   "cell_type": "code",
   "execution_count": 5,
   "metadata": {
    "colab": {
     "base_uri": "https://localhost:8080/",
     "height": 197
    },
    "executionInfo": {
     "elapsed": 76,
     "status": "ok",
     "timestamp": 1628288155152,
     "user": {
      "displayName": "Stelios Argyrou",
      "photoUrl": "https://lh3.googleusercontent.com/a-/AOh14Ggy0Znxg9S2zBfesNyH-Z_hcNqT9q14SjJGYdEgbw=s64",
      "userId": "16746687086442079738"
     },
     "user_tz": -60
    },
    "id": "eVJSYyfF6TM9",
    "outputId": "ce5a54d5-c393-4798-d682-d46e83a74f1d"
   },
   "outputs": [
    {
     "data": {
      "text/html": [
       "<div>\n",
       "<style scoped>\n",
       "    .dataframe tbody tr th:only-of-type {\n",
       "        vertical-align: middle;\n",
       "    }\n",
       "\n",
       "    .dataframe tbody tr th {\n",
       "        vertical-align: top;\n",
       "    }\n",
       "\n",
       "    .dataframe thead th {\n",
       "        text-align: right;\n",
       "    }\n",
       "</style>\n",
       "<table border=\"1\" class=\"dataframe\">\n",
       "  <thead>\n",
       "    <tr style=\"text-align: right;\">\n",
       "      <th></th>\n",
       "      <th>TNO Offs</th>\n",
       "      <th>months</th>\n",
       "    </tr>\n",
       "  </thead>\n",
       "  <tbody>\n",
       "    <tr>\n",
       "      <th>0</th>\n",
       "      <td>2098.0</td>\n",
       "      <td>0</td>\n",
       "    </tr>\n",
       "    <tr>\n",
       "      <th>1</th>\n",
       "      <td>1973.0</td>\n",
       "      <td>1</td>\n",
       "    </tr>\n",
       "    <tr>\n",
       "      <th>2</th>\n",
       "      <td>2353.0</td>\n",
       "      <td>2</td>\n",
       "    </tr>\n",
       "    <tr>\n",
       "      <th>3</th>\n",
       "      <td>2234.0</td>\n",
       "      <td>3</td>\n",
       "    </tr>\n",
       "    <tr>\n",
       "      <th>4</th>\n",
       "      <td>2224.0</td>\n",
       "      <td>4</td>\n",
       "    </tr>\n",
       "  </tbody>\n",
       "</table>\n",
       "</div>"
      ],
      "text/plain": [
       "   TNO Offs  months\n",
       "0    2098.0       0\n",
       "1    1973.0       1\n",
       "2    2353.0       2\n",
       "3    2234.0       3\n",
       "4    2224.0       4"
      ]
     },
     "execution_count": 5,
     "metadata": {},
     "output_type": "execute_result"
    }
   ],
   "source": [
    "df.head()"
   ]
  },
  {
   "cell_type": "code",
   "execution_count": 6,
   "metadata": {
    "colab": {
     "base_uri": "https://localhost:8080/"
    },
    "executionInfo": {
     "elapsed": 27,
     "status": "ok",
     "timestamp": 1628288155153,
     "user": {
      "displayName": "Stelios Argyrou",
      "photoUrl": "https://lh3.googleusercontent.com/a-/AOh14Ggy0Znxg9S2zBfesNyH-Z_hcNqT9q14SjJGYdEgbw=s64",
      "userId": "16746687086442079738"
     },
     "user_tz": -60
    },
    "id": "z-IOOMZpw6fO",
    "outputId": "ef8a6e28-29e6-4c35-ef3b-8a67fdf6f228"
   },
   "outputs": [
    {
     "data": {
      "text/plain": [
       "(1277, 2)"
      ]
     },
     "execution_count": 6,
     "metadata": {},
     "output_type": "execute_result"
    }
   ],
   "source": [
    "df.shape"
   ]
  },
  {
   "cell_type": "code",
   "execution_count": 7,
   "metadata": {
    "colab": {
     "base_uri": "https://localhost:8080/",
     "height": 282
    },
    "executionInfo": {
     "elapsed": 443,
     "status": "ok",
     "timestamp": 1628288155579,
     "user": {
      "displayName": "Stelios Argyrou",
      "photoUrl": "https://lh3.googleusercontent.com/a-/AOh14Ggy0Znxg9S2zBfesNyH-Z_hcNqT9q14SjJGYdEgbw=s64",
      "userId": "16746687086442079738"
     },
     "user_tz": -60
    },
    "id": "CTIYHu3R6VMy",
    "outputId": "ab03973a-38ea-45e7-9f16-77952d2bae93"
   },
   "outputs": [
    {
     "data": {
      "text/plain": [
       "[<matplotlib.lines.Line2D at 0x1c0fee9b730>]"
      ]
     },
     "execution_count": 7,
     "metadata": {},
     "output_type": "execute_result"
    },
    {
     "data": {
      "image/png": "[encoded data removed]",
      "text/plain": [
       "<Figure size 432x288 with 1 Axes>"
      ]
     },
     "metadata": {
      "needs_background": "light"
     },
     "output_type": "display_data"
    }
   ],
   "source": [
    "plt.plot(df[\"TNO Offs\"])"
   ]
  },
  {
   "cell_type": "code",
   "execution_count": 8,
   "metadata": {
    "colab": {
     "base_uri": "https://localhost:8080/"
    },
    "executionInfo": {
     "elapsed": 17,
     "status": "ok",
     "timestamp": 1628288155581,
     "user": {
      "displayName": "Stelios Argyrou",
      "photoUrl": "https://lh3.googleusercontent.com/a-/AOh14Ggy0Znxg9S2zBfesNyH-Z_hcNqT9q14SjJGYdEgbw=s64",
      "userId": "16746687086442079738"
     },
     "user_tz": -60
    },
    "id": "fo3_AJIC6XVj",
    "outputId": "6cbbf3c5-ab1b-4733-bcff-e5e862635529"
   },
   "outputs": [
    {
     "name": "stdout",
     "output_type": "stream",
     "text": [
      "ADF Statistic: -2.836209\n",
      "p-value: 0.053285\n",
      "Critical Values:\n",
      "\t1%: -3.436\n",
      "\t5%: -2.864\n",
      "\t10%: -2.568\n",
      "Failed to Reject Ho - Time Series is Non-Stationary\n"
     ]
    }
   ],
   "source": [
    "X = df[\"TNO Offs\"].values\n",
    "result = adfuller(X)\n",
    "print('ADF Statistic: %f' % result[0])\n",
    "print('p-value: %f' % result[1])\n",
    "print('Critical Values:')\n",
    "for key, value in result[4].items():\n",
    "    print('\\t%s: %.3f' % (key, value))\n",
    "\n",
    "if result[0] < result[4][\"5%\"]:\n",
    "    print (\"Reject Ho - Time Series is Stationary\")\n",
    "else:\n",
    "    print (\"Failed to Reject Ho - Time Series is Non-Stationary\")"
   ]
  },
  {
   "cell_type": "markdown",
   "metadata": {
    "id": "_zeam7XfFHOB"
   },
   "source": [
    "<center><h1>Auto Regressive Model</h1></center>"
   ]
  },
  {
   "cell_type": "markdown",
   "metadata": {
    "id": "4UKgrhhdFDc4"
   },
   "source": [
    "$$\n",
    "Y_{t}=\\alpha+\\beta_{1} Y_{t-1}+\\beta_{2} Y_{t-2}+\\ldots+\\beta_{p} Y_{t-p}+\\epsilon_{1}\n",
    "$$"
   ]
  },
  {
   "cell_type": "code",
   "execution_count": 9,
   "metadata": {
    "colab": {
     "base_uri": "https://localhost:8080/",
     "height": 281
    },
    "executionInfo": {
     "elapsed": 371,
     "status": "ok",
     "timestamp": 1628288155942,
     "user": {
      "displayName": "Stelios Argyrou",
      "photoUrl": "https://lh3.googleusercontent.com/a-/AOh14Ggy0Znxg9S2zBfesNyH-Z_hcNqT9q14SjJGYdEgbw=s64",
      "userId": "16746687086442079738"
     },
     "user_tz": -60
    },
    "id": "1pogyF9p6a1j",
    "outputId": "02b76cf0-26b3-49e5-be1c-a014c2ff55df"
   },
   "outputs": [
    {
     "data": {
      "image/png": "[encoded data removed]",
      "text/plain": [
       "<Figure size 432x288 with 1 Axes>"
      ]
     },
     "metadata": {
      "needs_background": "light"
     },
     "output_type": "display_data"
    }
   ],
   "source": [
    "plot_pacf(X, lags=10);"
   ]
  },
  {
   "cell_type": "code",
   "execution_count": 10,
   "metadata": {
    "executionInfo": {
     "elapsed": 57,
     "status": "ok",
     "timestamp": 1628288155944,
     "user": {
      "displayName": "Stelios Argyrou",
      "photoUrl": "https://lh3.googleusercontent.com/a-/AOh14Ggy0Znxg9S2zBfesNyH-Z_hcNqT9q14SjJGYdEgbw=s64",
      "userId": "16746687086442079738"
     },
     "user_tz": -60
    },
    "id": "EqhqcJYTxDGW"
   },
   "outputs": [],
   "source": [
    "df[\"Values_shifted\"]  = df[\"TNO Offs\"].shift()"
   ]
  },
  {
   "cell_type": "code",
   "execution_count": 11,
   "metadata": {
    "colab": {
     "base_uri": "https://localhost:8080/",
     "height": 197
    },
    "executionInfo": {
     "elapsed": 57,
     "status": "ok",
     "timestamp": 1628288155945,
     "user": {
      "displayName": "Stelios Argyrou",
      "photoUrl": "https://lh3.googleusercontent.com/a-/AOh14Ggy0Znxg9S2zBfesNyH-Z_hcNqT9q14SjJGYdEgbw=s64",
      "userId": "16746687086442079738"
     },
     "user_tz": -60
    },
    "id": "j11XE1ALxTGR",
    "outputId": "ffc02a53-bdb3-472a-b5e0-1b0ad2bb5b5a"
   },
   "outputs": [
    {
     "data": {
      "text/html": [
       "<div>\n",
       "<style scoped>\n",
       "    .dataframe tbody tr th:only-of-type {\n",
       "        vertical-align: middle;\n",
       "    }\n",
       "\n",
       "    .dataframe tbody tr th {\n",
       "        vertical-align: top;\n",
       "    }\n",
       "\n",
       "    .dataframe thead th {\n",
       "        text-align: right;\n",
       "    }\n",
       "</style>\n",
       "<table border=\"1\" class=\"dataframe\">\n",
       "  <thead>\n",
       "    <tr style=\"text-align: right;\">\n",
       "      <th></th>\n",
       "      <th>TNO Offs</th>\n",
       "      <th>months</th>\n",
       "      <th>Values_shifted</th>\n",
       "    </tr>\n",
       "  </thead>\n",
       "  <tbody>\n",
       "    <tr>\n",
       "      <th>0</th>\n",
       "      <td>2098.0</td>\n",
       "      <td>0</td>\n",
       "      <td>NaN</td>\n",
       "    </tr>\n",
       "    <tr>\n",
       "      <th>1</th>\n",
       "      <td>1973.0</td>\n",
       "      <td>1</td>\n",
       "      <td>2098.0</td>\n",
       "    </tr>\n",
       "    <tr>\n",
       "      <th>2</th>\n",
       "      <td>2353.0</td>\n",
       "      <td>2</td>\n",
       "      <td>1973.0</td>\n",
       "    </tr>\n",
       "    <tr>\n",
       "      <th>3</th>\n",
       "      <td>2234.0</td>\n",
       "      <td>3</td>\n",
       "      <td>2353.0</td>\n",
       "    </tr>\n",
       "    <tr>\n",
       "      <th>4</th>\n",
       "      <td>2224.0</td>\n",
       "      <td>4</td>\n",
       "      <td>2234.0</td>\n",
       "    </tr>\n",
       "  </tbody>\n",
       "</table>\n",
       "</div>"
      ],
      "text/plain": [
       "   TNO Offs  months  Values_shifted\n",
       "0    2098.0       0             NaN\n",
       "1    1973.0       1          2098.0\n",
       "2    2353.0       2          1973.0\n",
       "3    2234.0       3          2353.0\n",
       "4    2224.0       4          2234.0"
      ]
     },
     "execution_count": 11,
     "metadata": {},
     "output_type": "execute_result"
    }
   ],
   "source": [
    "df.head()"
   ]
  },
  {
   "cell_type": "code",
   "execution_count": 12,
   "metadata": {
    "executionInfo": {
     "elapsed": 55,
     "status": "ok",
     "timestamp": 1628288155946,
     "user": {
      "displayName": "Stelios Argyrou",
      "photoUrl": "https://lh3.googleusercontent.com/a-/AOh14Ggy0Znxg9S2zBfesNyH-Z_hcNqT9q14SjJGYdEgbw=s64",
      "userId": "16746687086442079738"
     },
     "user_tz": -60
    },
    "id": "OKgYGSIIxtKh"
   },
   "outputs": [],
   "source": [
    "# df.drop('months', axis = 1, inplace=True)"
   ]
  },
  {
   "cell_type": "code",
   "execution_count": 13,
   "metadata": {
    "executionInfo": {
     "elapsed": 55,
     "status": "ok",
     "timestamp": 1628288155947,
     "user": {
      "displayName": "Stelios Argyrou",
      "photoUrl": "https://lh3.googleusercontent.com/a-/AOh14Ggy0Znxg9S2zBfesNyH-Z_hcNqT9q14SjJGYdEgbw=s64",
      "userId": "16746687086442079738"
     },
     "user_tz": -60
    },
    "id": "Ct5fJLnhx5HT"
   },
   "outputs": [],
   "source": [
    "df.dropna(inplace=True)"
   ]
  },
  {
   "cell_type": "code",
   "execution_count": 14,
   "metadata": {
    "colab": {
     "base_uri": "https://localhost:8080/",
     "height": 197
    },
    "executionInfo": {
     "elapsed": 56,
     "status": "ok",
     "timestamp": 1628288155948,
     "user": {
      "displayName": "Stelios Argyrou",
      "photoUrl": "https://lh3.googleusercontent.com/a-/AOh14Ggy0Znxg9S2zBfesNyH-Z_hcNqT9q14SjJGYdEgbw=s64",
      "userId": "16746687086442079738"
     },
     "user_tz": -60
    },
    "id": "4VtjnuDnyMTX",
    "outputId": "f03bb9f1-4eff-4255-c49a-48131c6bc273"
   },
   "outputs": [
    {
     "data": {
      "text/html": [
       "<div>\n",
       "<style scoped>\n",
       "    .dataframe tbody tr th:only-of-type {\n",
       "        vertical-align: middle;\n",
       "    }\n",
       "\n",
       "    .dataframe tbody tr th {\n",
       "        vertical-align: top;\n",
       "    }\n",
       "\n",
       "    .dataframe thead th {\n",
       "        text-align: right;\n",
       "    }\n",
       "</style>\n",
       "<table border=\"1\" class=\"dataframe\">\n",
       "  <thead>\n",
       "    <tr style=\"text-align: right;\">\n",
       "      <th></th>\n",
       "      <th>TNO Offs</th>\n",
       "      <th>months</th>\n",
       "      <th>Values_shifted</th>\n",
       "    </tr>\n",
       "  </thead>\n",
       "  <tbody>\n",
       "    <tr>\n",
       "      <th>1</th>\n",
       "      <td>1973.0</td>\n",
       "      <td>1</td>\n",
       "      <td>2098.0</td>\n",
       "    </tr>\n",
       "    <tr>\n",
       "      <th>2</th>\n",
       "      <td>2353.0</td>\n",
       "      <td>2</td>\n",
       "      <td>1973.0</td>\n",
       "    </tr>\n",
       "    <tr>\n",
       "      <th>3</th>\n",
       "      <td>2234.0</td>\n",
       "      <td>3</td>\n",
       "      <td>2353.0</td>\n",
       "    </tr>\n",
       "    <tr>\n",
       "      <th>4</th>\n",
       "      <td>2224.0</td>\n",
       "      <td>4</td>\n",
       "      <td>2234.0</td>\n",
       "    </tr>\n",
       "    <tr>\n",
       "      <th>5</th>\n",
       "      <td>2230.0</td>\n",
       "      <td>5</td>\n",
       "      <td>2224.0</td>\n",
       "    </tr>\n",
       "  </tbody>\n",
       "</table>\n",
       "</div>"
      ],
      "text/plain": [
       "   TNO Offs  months  Values_shifted\n",
       "1    1973.0       1          2098.0\n",
       "2    2353.0       2          1973.0\n",
       "3    2234.0       3          2353.0\n",
       "4    2224.0       4          2234.0\n",
       "5    2230.0       5          2224.0"
      ]
     },
     "execution_count": 14,
     "metadata": {},
     "output_type": "execute_result"
    }
   ],
   "source": [
    "df.head()"
   ]
  },
  {
   "cell_type": "code",
   "execution_count": 15,
   "metadata": {
    "executionInfo": {
     "elapsed": 54,
     "status": "ok",
     "timestamp": 1628288155949,
     "user": {
      "displayName": "Stelios Argyrou",
      "photoUrl": "https://lh3.googleusercontent.com/a-/AOh14Ggy0Znxg9S2zBfesNyH-Z_hcNqT9q14SjJGYdEgbw=s64",
      "userId": "16746687086442079738"
     },
     "user_tz": -60
    },
    "id": "mYyL8S_ZyNxu"
   },
   "outputs": [],
   "source": [
    "y = df[\"TNO Offs\"].values\n",
    "X = df.months.values"
   ]
  },
  {
   "cell_type": "code",
   "execution_count": 16,
   "metadata": {
    "executionInfo": {
     "elapsed": 54,
     "status": "ok",
     "timestamp": 1628288155950,
     "user": {
      "displayName": "Stelios Argyrou",
      "photoUrl": "https://lh3.googleusercontent.com/a-/AOh14Ggy0Znxg9S2zBfesNyH-Z_hcNqT9q14SjJGYdEgbw=s64",
      "userId": "16746687086442079738"
     },
     "user_tz": -60
    },
    "id": "ccfndRs0zAgI"
   },
   "outputs": [],
   "source": [
    "train_size = int(len(X) * 0.80)\n",
    "\n",
    "# Use for AR, MA, ARMA models\n",
    "# X_train, X_test = X[0:train_size], X[train_size:len(X)]\n",
    "# y_train, y_test = y[0:train_size], y[train_size:len(X)]\n",
    "\n",
    "# Use for Linear Regression model\n",
    "from sklearn.model_selection import train_test_split\n",
    "X_train, X_test, y_train, y_test = train_test_split(X, y, test_size=0.2)"
   ]
  },
  {
   "cell_type": "code",
   "execution_count": 17,
   "metadata": {
    "executionInfo": {
     "elapsed": 54,
     "status": "ok",
     "timestamp": 1628288155953,
     "user": {
      "displayName": "Stelios Argyrou",
      "photoUrl": "https://lh3.googleusercontent.com/a-/AOh14Ggy0Znxg9S2zBfesNyH-Z_hcNqT9q14SjJGYdEgbw=s64",
      "userId": "16746687086442079738"
     },
     "user_tz": -60
    },
    "id": "jYowuwwbzaiM"
   },
   "outputs": [],
   "source": [
    "X_train = X_train.reshape(-1,1)\n",
    "X_test = X_test.reshape(-1,1)"
   ]
  },
  {
   "cell_type": "code",
   "execution_count": 18,
   "metadata": {
    "colab": {
     "base_uri": "https://localhost:8080/"
    },
    "executionInfo": {
     "elapsed": 54,
     "status": "ok",
     "timestamp": 1628288155954,
     "user": {
      "displayName": "Stelios Argyrou",
      "photoUrl": "https://lh3.googleusercontent.com/a-/AOh14Ggy0Znxg9S2zBfesNyH-Z_hcNqT9q14SjJGYdEgbw=s64",
      "userId": "16746687086442079738"
     },
     "user_tz": -60
    },
    "id": "BDSas7QrzTub",
    "outputId": "6100a444-353c-4e0b-c746-9fc8bb75c6af"
   },
   "outputs": [
    {
     "data": {
      "text/plain": [
       "LinearRegression()"
      ]
     },
     "execution_count": 18,
     "metadata": {},
     "output_type": "execute_result"
    }
   ],
   "source": [
    "lr = LinearRegression()\n",
    "lr.fit(X_train, y_train)"
   ]
  },
  {
   "cell_type": "code",
   "execution_count": 19,
   "metadata": {
    "colab": {
     "base_uri": "https://localhost:8080/"
    },
    "executionInfo": {
     "elapsed": 47,
     "status": "ok",
     "timestamp": 1628288155955,
     "user": {
      "displayName": "Stelios Argyrou",
      "photoUrl": "https://lh3.googleusercontent.com/a-/AOh14Ggy0Znxg9S2zBfesNyH-Z_hcNqT9q14SjJGYdEgbw=s64",
      "userId": "16746687086442079738"
     },
     "user_tz": -60
    },
    "id": "2GXGsDDuziSe",
    "outputId": "7f3602ae-c8a7-4673-f6c2-79663408b832"
   },
   "outputs": [
    {
     "data": {
      "text/plain": [
       "array([-0.27792392])"
      ]
     },
     "execution_count": 19,
     "metadata": {},
     "output_type": "execute_result"
    }
   ],
   "source": [
    "lr.coef_"
   ]
  },
  {
   "cell_type": "code",
   "execution_count": 20,
   "metadata": {
    "colab": {
     "base_uri": "https://localhost:8080/"
    },
    "executionInfo": {
     "elapsed": 45,
     "status": "ok",
     "timestamp": 1628288155956,
     "user": {
      "displayName": "Stelios Argyrou",
      "photoUrl": "https://lh3.googleusercontent.com/a-/AOh14Ggy0Znxg9S2zBfesNyH-Z_hcNqT9q14SjJGYdEgbw=s64",
      "userId": "16746687086442079738"
     },
     "user_tz": -60
    },
    "id": "eksDHekNzieX",
    "outputId": "c6e46400-d56b-4b1f-f17c-01eca9dac940"
   },
   "outputs": [
    {
     "data": {
      "text/plain": [
       "2465.3639606004394"
      ]
     },
     "execution_count": 20,
     "metadata": {},
     "output_type": "execute_result"
    }
   ],
   "source": [
    "lr.intercept_"
   ]
  },
  {
   "cell_type": "code",
   "execution_count": 21,
   "metadata": {
    "colab": {
     "base_uri": "https://localhost:8080/"
    },
    "executionInfo": {
     "elapsed": 41,
     "status": "ok",
     "timestamp": 1628288155957,
     "user": {
      "displayName": "Stelios Argyrou",
      "photoUrl": "https://lh3.googleusercontent.com/a-/AOh14Ggy0Znxg9S2zBfesNyH-Z_hcNqT9q14SjJGYdEgbw=s64",
      "userId": "16746687086442079738"
     },
     "user_tz": -60
    },
    "id": "wgIb4in00WBv",
    "outputId": "530b77a1-036e-4950-f47e-7f8c9b626c4c"
   },
   "outputs": [
    {
     "data": {
      "text/plain": [
       "256"
      ]
     },
     "execution_count": 21,
     "metadata": {},
     "output_type": "execute_result"
    }
   ],
   "source": [
    "y_pred = lr.predict(X_test)\n",
    "len(y_pred)"
   ]
  },
  {
   "cell_type": "code",
   "execution_count": 22,
   "metadata": {
    "colab": {
     "base_uri": "https://localhost:8080/",
     "height": 541
    },
    "executionInfo": {
     "elapsed": 672,
     "status": "ok",
     "timestamp": 1628288156594,
     "user": {
      "displayName": "Stelios Argyrou",
      "photoUrl": "https://lh3.googleusercontent.com/a-/AOh14Ggy0Znxg9S2zBfesNyH-Z_hcNqT9q14SjJGYdEgbw=s64",
      "userId": "16746687086442079738"
     },
     "user_tz": -60
    },
    "id": "35PBumYqzwVJ",
    "outputId": "23d9565e-bea8-4a4a-b30a-d92a912f2cf4"
   },
   "outputs": [
    {
     "data": {
      "image/png": "[encoded data removed]",
      "text/plain": [
       "<Figure size 1000x400 with 1 Axes>"
      ]
     },
     "metadata": {
      "needs_background": "light"
     },
     "output_type": "display_data"
    },
    {
     "name": "stdout",
     "output_type": "stream",
     "text": [
      "R^2 Score: 6.68%\n",
      "Test Mean: 2283.75\n",
      "Test RMSE: 302.07\n"
     ]
    }
   ],
   "source": [
    "plt.figure(figsize=(5, 2), dpi=200)\n",
    "plt.scatter(X_test, y_test, label=\"Actual Values\")\n",
    "# plt.plot(y_pred, label=\"Predicted Values\")\n",
    "plt.plot(X_test, (lr.intercept_ + (lr.coef_*X_test)), color=\"orange\", label=\"Regression Line\")\n",
    "plt.legend()\n",
    "plt.title(\"Linear Regression's line on test data\")\n",
    "plt.xlabel(\"Months from test data\")\n",
    "plt.ylabel(\"Number of Crimes\")\n",
    "plt.show()\n",
    "print(\"R^2 Score: {0:.2%}\".format(r2_score(y_test, y_pred)))\n",
    "rmse = math.sqrt(mean_squared_error(y_test, y_pred))\n",
    "print('Test Mean: %.2f' % y_test.mean())\n",
    "print('Test RMSE: %.2f' % rmse)"
   ]
  },
  {
   "cell_type": "code",
   "execution_count": 23,
   "metadata": {
    "executionInfo": {
     "elapsed": 27,
     "status": "ok",
     "timestamp": 1628288156596,
     "user": {
      "displayName": "Stelios Argyrou",
      "photoUrl": "https://lh3.googleusercontent.com/a-/AOh14Ggy0Znxg9S2zBfesNyH-Z_hcNqT9q14SjJGYdEgbw=s64",
      "userId": "16746687086442079738"
     },
     "user_tz": -60
    },
    "id": "KEKCjcnD0B28"
   },
   "outputs": [],
   "source": [
    "from statsmodels.tsa.statespace.sarimax import SARIMAX\n",
    "model=SARIMAX(y_train,trend='c',order=(2,1,2))"
   ]
  },
  {
   "cell_type": "code",
   "execution_count": 24,
   "metadata": {
    "colab": {
     "base_uri": "https://localhost:8080/"
    },
    "executionInfo": {
     "elapsed": 1860,
     "status": "ok",
     "timestamp": 1628288158436,
     "user": {
      "displayName": "Stelios Argyrou",
      "photoUrl": "https://lh3.googleusercontent.com/a-/AOh14Ggy0Znxg9S2zBfesNyH-Z_hcNqT9q14SjJGYdEgbw=s64",
      "userId": "16746687086442079738"
     },
     "user_tz": -60
    },
    "id": "tSfkEA6y0B6l",
    "outputId": "3121cd47-7715-47a7-e51d-1d24e92333be"
   },
   "outputs": [],
   "source": [
    "model_fit = model.fit()"
   ]
  },
  {
   "cell_type": "code",
   "execution_count": 25,
   "metadata": {
    "colab": {
     "base_uri": "https://localhost:8080/"
    },
    "executionInfo": {
     "elapsed": 12,
     "status": "ok",
     "timestamp": 1628288158439,
     "user": {
      "displayName": "Stelios Argyrou",
      "photoUrl": "https://lh3.googleusercontent.com/a-/AOh14Ggy0Znxg9S2zBfesNyH-Z_hcNqT9q14SjJGYdEgbw=s64",
      "userId": "16746687086442079738"
     },
     "user_tz": -60
    },
    "id": "0QZ77NIM0Bv4",
    "outputId": "baf9e1bf-b84c-4a12-fdb9-8c8456e16d38"
   },
   "outputs": [
    {
     "name": "stdout",
     "output_type": "stream",
     "text": [
      "                               SARIMAX Results                                \n",
      "==============================================================================\n",
      "Dep. Variable:                      y   No. Observations:                 1020\n",
      "Model:               SARIMAX(2, 1, 2)   Log Likelihood               -7370.502\n",
      "Date:                Fri, 03 Sep 2021   AIC                          14753.003\n",
      "Time:                        02:38:26   BIC                          14782.563\n",
      "Sample:                             0   HQIC                         14764.228\n",
      "                               - 1020                                         \n",
      "Covariance Type:                  opg                                         \n",
      "==============================================================================\n",
      "                 coef    std err          z      P>|z|      [0.025      0.975]\n",
      "------------------------------------------------------------------------------\n",
      "intercept      0.1065      0.194      0.548      0.584      -0.274       0.487\n",
      "ar.L1         -0.9580      3.384     -0.283      0.777      -7.591       5.675\n",
      "ar.L2          0.0419      0.145      0.290      0.772      -0.242       0.325\n",
      "ma.L1       -8.34e-05      3.396  -2.46e-05      1.000      -6.657       6.657\n",
      "ma.L2         -0.9999      3.386     -0.295      0.768      -7.636       5.636\n",
      "sigma2      1.114e+05   6.96e-07    1.6e+11      0.000    1.11e+05    1.11e+05\n",
      "===================================================================================\n",
      "Ljung-Box (L1) (Q):                   0.00   Jarque-Bera (JB):               202.25\n",
      "Prob(Q):                              0.99   Prob(JB):                         0.00\n",
      "Heteroskedasticity (H):               1.01   Skew:                            -0.90\n",
      "Prob(H) (two-sided):                  0.93   Kurtosis:                         4.24\n",
      "===================================================================================\n",
      "\n",
      "Warnings:\n",
      "[1] Covariance matrix calculated using the outer product of gradients (complex-step).\n",
      "[2] Covariance matrix is singular or near-singular, with condition number 3.26e+27. Standard errors may be unstable.\n"
     ]
    }
   ],
   "source": [
    "print(model_fit.summary())"
   ]
  },
  {
   "cell_type": "code",
   "execution_count": 26,
   "metadata": {
    "colab": {
     "base_uri": "https://localhost:8080/",
     "height": 1000
    },
    "executionInfo": {
     "elapsed": 110101,
     "status": "error",
     "timestamp": 1628288268531,
     "user": {
      "displayName": "Stelios Argyrou",
      "photoUrl": "https://lh3.googleusercontent.com/a-/AOh14Ggy0Znxg9S2zBfesNyH-Z_hcNqT9q14SjJGYdEgbw=s64",
      "userId": "16746687086442079738"
     },
     "user_tz": -60
    },
    "id": "H6Fuxt79NTGR",
    "outputId": "9cccca90-a8bd-4e6a-bc94-790cce871b40",
    "scrolled": false
   },
   "outputs": [],
   "source": [
    "# # Uncomment to use ARIMA models\n",
    "\n",
    "# import time\n",
    "# start = time.process_time()\n",
    "\n",
    "# train, test = y_train, y_test\n",
    "# history = [x for x in train]\n",
    "# predictions = list()\n",
    "\n",
    "# # walk-forward validation\n",
    "# for t in range((len(test)+30)):\n",
    "#   model=SARIMAX(history,trend='c',order=(2,1,2))\n",
    "#   model_fit = model.fit()\n",
    "#   output = model_fit.forecast()\n",
    "#   yhat = output[0]\n",
    "#   predictions.append(yhat)\n",
    "#   if (t<256):\n",
    "#     obs = test[t]\n",
    "#     history.append(obs)\n",
    "#     print('%i) predicted=%f, expected=%f' % ((t+1), yhat, obs))\n",
    "#   else:\n",
    "#     history.append(yhat)\n",
    "#     print('%i) predicted=%f' % ((t+1), yhat))\n",
    "\n",
    "# # plot forecasts against actual outcomes\n",
    "# plt.figure(figsize=(5, 2), dpi=200)\n",
    "# plt.xlabel(\"Days from test data\")\n",
    "# plt.ylabel(\"Number of Crimes\")\n",
    "# plt.plot(test[0:256])\n",
    "# plt.plot(predictions, color='red')\n",
    "# plt.show()\n",
    "\n",
    "# print(\"R^2 Score: {0:.2%}\".format(r2_score(test, predictions[0:256])))\n",
    "# rmse = math.sqrt(mean_squared_error(test, predictions[0:256]))\n",
    "# print('Test Mean: %.2f' % test.mean())\n",
    "# print('Test RMSE: %.2f' % rmse)\n",
    "\n",
    "# print(\"Time taken: \", (time.process_time() - start))"
   ]
  }
 ],
 "metadata": {
  "colab": {
   "collapsed_sections": [],
   "name": "Linear Regression & ARIMA.ipynb",
   "provenance": [
    {
     "file_id": "https://github.com/bhattbhavesh91/auto-regressive-time-series-model/blob/master/AR-model-notebook.ipynb",
     "timestamp": 1625054369018
    }
   ]
  },
  "kernelspec": {
   "display_name": "Python 3",
   "language": "python",
   "name": "python3"
  },
  "language_info": {
   "codemirror_mode": {
    "name": "ipython",
    "version": 3
   },
   "file_extension": ".py",
   "mimetype": "text/x-python",
   "name": "python",
   "nbconvert_exporter": "python",
   "pygments_lexer": "ipython3",
   "version": "3.8.8"
  }
 },
 "nbformat": 4,
 "nbformat_minor": 1
}
